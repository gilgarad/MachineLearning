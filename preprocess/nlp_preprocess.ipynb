{
 "cells": [
  {
   "cell_type": "markdown",
   "metadata": {},
   "source": [
    "# 자연어 전처리 테스트 모듈"
   ]
  },
  {
   "cell_type": "code",
   "execution_count": 1,
   "metadata": {},
   "outputs": [],
   "source": [
    "import numpy as np\n",
    "from os.path import join\n",
    "from os import listdir"
   ]
  },
  {
   "cell_type": "code",
   "execution_count": 2,
   "metadata": {},
   "outputs": [],
   "source": [
    "root_path = '/data1'\n",
    "translation_data_path = join(root_path, 'translation_data', 'korean-english-park.test')\n",
    "category_data_path = join(root_path, 'cs_emulator_data', '7category_data')"
   ]
  },
  {
   "cell_type": "markdown",
   "metadata": {},
   "source": [
    "## 설명: 기본 구조는 다음과 같다.\n",
    "## 1. 폴더 내의 모든 파일은 text 또는 numpy라고 가정하고, 모든 path list를 읽는다.\n",
    "## 2. token화 한다.\n",
    "## 3. Token화 된 데이터를 seq2seq 형태인지, category 형태인지에 따라 재조립 한다.\n",
    "## 4. token to idx를 구현\n",
    "## 5. 가공된 데이터 세트 return (numpy array 형식)"
   ]
  },
  {
   "cell_type": "code",
   "execution_count": null,
   "metadata": {},
   "outputs": [],
   "source": []
  },
  {
   "cell_type": "code",
   "execution_count": null,
   "metadata": {},
   "outputs": [],
   "source": [
    "def read_data()"
   ]
  }
 ],
 "metadata": {
  "kernelspec": {
   "display_name": "brainwave_eeg",
   "language": "python",
   "name": "brainwave_eeg"
  },
  "language_info": {
   "codemirror_mode": {
    "name": "ipython",
    "version": 3
   },
   "file_extension": ".py",
   "mimetype": "text/x-python",
   "name": "python",
   "nbconvert_exporter": "python",
   "pygments_lexer": "ipython3",
   "version": "3.6.5"
  }
 },
 "nbformat": 4,
 "nbformat_minor": 2
}

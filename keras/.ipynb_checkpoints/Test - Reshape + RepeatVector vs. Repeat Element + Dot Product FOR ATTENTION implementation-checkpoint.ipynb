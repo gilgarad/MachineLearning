{
 "cells": [
  {
   "cell_type": "code",
   "execution_count": 39,
   "metadata": {},
   "outputs": [],
   "source": [
    "import keras.backend.tensorflow_backend as K\n",
    "from keras.layers import Input, Lambda, Concatenate, RepeatVector, Reshape, Permute\n",
    "from keras.models import Model"
   ]
  },
  {
   "cell_type": "code",
   "execution_count": 2,
   "metadata": {},
   "outputs": [],
   "source": [
    "import numpy as np"
   ]
  },
  {
   "cell_type": "markdown",
   "metadata": {},
   "source": [
    "# Encoder Sequence 10, Decoder Sequence 8, Latent Dim 2 가정"
   ]
  },
  {
   "cell_type": "code",
   "execution_count": 4,
   "metadata": {},
   "outputs": [],
   "source": [
    "enc_seq_length = 10\n",
    "dec_seq_length = 8\n",
    "latent_dim = 2\n",
    "\n",
    "\n",
    "enc_input = np.random.randint(10, size=(1, enc_seq_length, latent_dim))\n",
    "dec_input = np.random.randint(10, size=(1, dec_seq_length, latent_dim))"
   ]
  },
  {
   "cell_type": "code",
   "execution_count": 6,
   "metadata": {
    "scrolled": true
   },
   "outputs": [
    {
     "name": "stdout",
     "output_type": "stream",
     "text": [
      "enc_input\n",
      "[[[2 5]\n",
      "  [2 8]\n",
      "  [7 0]\n",
      "  [7 8]\n",
      "  [7 4]\n",
      "  [5 2]\n",
      "  [6 7]\n",
      "  [1 1]\n",
      "  [2 4]\n",
      "  [1 5]]]\n",
      "\n",
      "dec_input\n",
      "[[[3 6]\n",
      "  [1 3]\n",
      "  [2 5]\n",
      "  [7 4]\n",
      "  [0 9]\n",
      "  [9 5]\n",
      "  [0 1]\n",
      "  [5 7]]]\n"
     ]
    }
   ],
   "source": [
    "print('enc_input')\n",
    "print(enc_input)\n",
    "print('')\n",
    "print('dec_input')\n",
    "print(dec_input)"
   ]
  },
  {
   "cell_type": "markdown",
   "metadata": {},
   "source": [
    "# 1. 테스트 모델 생성 Repeat Element + Dot Product"
   ]
  },
  {
   "cell_type": "code",
   "execution_count": 9,
   "metadata": {},
   "outputs": [],
   "source": [
    "def RepeatVectorLayer(rep, axis):\n",
    "    return Lambda(lambda x: K.repeat_elements(K.expand_dims(x, axis), rep, axis))"
   ]
  },
  {
   "cell_type": "code",
   "execution_count": 13,
   "metadata": {},
   "outputs": [],
   "source": [
    "\n",
    "def get_repeat_element_dot_product_model():\n",
    "    encoder_inputs = Input(shape=(enc_seq_length, latent_dim))\n",
    "    decoder_inputs = Input(shape=(dec_seq_length, latent_dim))\n",
    "\n",
    "    # 최소공배수만큼으로 만들고 서로 곱해준다\n",
    "    repeat_d_layer = RepeatVectorLayer(rep=enc_seq_length, axis=2)\n",
    "    repeat_d = repeat_d_layer(decoder_inputs)\n",
    "\n",
    "    repeat_e_layer = RepeatVectorLayer(rep=dec_seq_length, axis=1)\n",
    "    repeat_e = repeat_e_layer(encoder_inputs)\n",
    "\n",
    "    concat = Concatenate()([repeat_d, repeat_e])\n",
    "\n",
    "    model = Model(inputs=[encoder_inputs, decoder_inputs], outputs=concat)\n",
    "    model.compile(loss='mse', optimizer='adam')\n",
    "    return model"
   ]
  },
  {
   "cell_type": "code",
   "execution_count": 23,
   "metadata": {
    "scrolled": true
   },
   "outputs": [
    {
     "name": "stdout",
     "output_type": "stream",
     "text": [
      "[[[[3. 6. 2. 5.]\n",
      "   [3. 6. 2. 8.]\n",
      "   [3. 6. 7. 0.]\n",
      "   [3. 6. 7. 8.]\n",
      "   [3. 6. 7. 4.]\n",
      "   [3. 6. 5. 2.]\n",
      "   [3. 6. 6. 7.]\n",
      "   [3. 6. 1. 1.]\n",
      "   [3. 6. 2. 4.]\n",
      "   [3. 6. 1. 5.]]\n",
      "\n",
      "  [[1. 3. 2. 5.]\n",
      "   [1. 3. 2. 8.]\n",
      "   [1. 3. 7. 0.]\n",
      "   [1. 3. 7. 8.]\n",
      "   [1. 3. 7. 4.]\n",
      "   [1. 3. 5. 2.]\n",
      "   [1. 3. 6. 7.]\n",
      "   [1. 3. 1. 1.]\n",
      "   [1. 3. 2. 4.]\n",
      "   [1. 3. 1. 5.]]\n",
      "\n",
      "  [[2. 5. 2. 5.]\n",
      "   [2. 5. 2. 8.]\n",
      "   [2. 5. 7. 0.]\n",
      "   [2. 5. 7. 8.]\n",
      "   [2. 5. 7. 4.]\n",
      "   [2. 5. 5. 2.]\n",
      "   [2. 5. 6. 7.]\n",
      "   [2. 5. 1. 1.]\n",
      "   [2. 5. 2. 4.]\n",
      "   [2. 5. 1. 5.]]\n",
      "\n",
      "  [[7. 4. 2. 5.]\n",
      "   [7. 4. 2. 8.]\n",
      "   [7. 4. 7. 0.]\n",
      "   [7. 4. 7. 8.]\n",
      "   [7. 4. 7. 4.]\n",
      "   [7. 4. 5. 2.]\n",
      "   [7. 4. 6. 7.]\n",
      "   [7. 4. 1. 1.]\n",
      "   [7. 4. 2. 4.]\n",
      "   [7. 4. 1. 5.]]\n",
      "\n",
      "  [[0. 9. 2. 5.]\n",
      "   [0. 9. 2. 8.]\n",
      "   [0. 9. 7. 0.]\n",
      "   [0. 9. 7. 8.]\n",
      "   [0. 9. 7. 4.]\n",
      "   [0. 9. 5. 2.]\n",
      "   [0. 9. 6. 7.]\n",
      "   [0. 9. 1. 1.]\n",
      "   [0. 9. 2. 4.]\n",
      "   [0. 9. 1. 5.]]\n",
      "\n",
      "  [[9. 5. 2. 5.]\n",
      "   [9. 5. 2. 8.]\n",
      "   [9. 5. 7. 0.]\n",
      "   [9. 5. 7. 8.]\n",
      "   [9. 5. 7. 4.]\n",
      "   [9. 5. 5. 2.]\n",
      "   [9. 5. 6. 7.]\n",
      "   [9. 5. 1. 1.]\n",
      "   [9. 5. 2. 4.]\n",
      "   [9. 5. 1. 5.]]\n",
      "\n",
      "  [[0. 1. 2. 5.]\n",
      "   [0. 1. 2. 8.]\n",
      "   [0. 1. 7. 0.]\n",
      "   [0. 1. 7. 8.]\n",
      "   [0. 1. 7. 4.]\n",
      "   [0. 1. 5. 2.]\n",
      "   [0. 1. 6. 7.]\n",
      "   [0. 1. 1. 1.]\n",
      "   [0. 1. 2. 4.]\n",
      "   [0. 1. 1. 5.]]\n",
      "\n",
      "  [[5. 7. 2. 5.]\n",
      "   [5. 7. 2. 8.]\n",
      "   [5. 7. 7. 0.]\n",
      "   [5. 7. 7. 8.]\n",
      "   [5. 7. 7. 4.]\n",
      "   [5. 7. 5. 2.]\n",
      "   [5. 7. 6. 7.]\n",
      "   [5. 7. 1. 1.]\n",
      "   [5. 7. 2. 4.]\n",
      "   [5. 7. 1. 5.]]]]\n"
     ]
    }
   ],
   "source": [
    "model = get_repeat_element_dot_product_model()\n",
    "a = model.predict([enc_input, dec_input])\n",
    "print(a)"
   ]
  },
  {
   "cell_type": "code",
   "execution_count": 24,
   "metadata": {},
   "outputs": [
    {
     "data": {
      "text/plain": [
       "(1, 8, 10, 4)"
      ]
     },
     "execution_count": 24,
     "metadata": {},
     "output_type": "execute_result"
    }
   ],
   "source": [
    "a.shape"
   ]
  },
  {
   "cell_type": "markdown",
   "metadata": {},
   "source": [
    "# 2. Repeat Vector + Reshape으로 위의 것을 대신할 수 있는지 테스트"
   ]
  },
  {
   "cell_type": "code",
   "execution_count": 83,
   "metadata": {},
   "outputs": [],
   "source": [
    "\n",
    "def get_reshape_repeat_model():\n",
    "    encoder_inputs = Input(shape=(enc_seq_length, latent_dim))\n",
    "    decoder_inputs = Input(shape=(dec_seq_length, latent_dim))\n",
    "\n",
    "    # 최소공배수만큼으로 만들고 서로 곱해준다\n",
    "    reshaped_encoder_inputs = Reshape((enc_seq_length * latent_dim, ))(encoder_inputs)\n",
    "    reshaped_decoder_inputs = Reshape((dec_seq_length * latent_dim, ))(decoder_inputs)\n",
    "    enc_repeat_vector = RepeatVector(dec_seq_length)(reshaped_encoder_inputs)\n",
    "    dec_repeat_vector = RepeatVector(enc_seq_length)(reshaped_decoder_inputs)\n",
    "    print(enc_repeat_vector.get_shape())\n",
    "    print(dec_repeat_vector.get_shape())\n",
    "    reshape_enc_repeat_vector = Reshape((dec_seq_length, enc_seq_length, latent_dim))(enc_repeat_vector)\n",
    "    reshape_dec_repeat_vector = Reshape((enc_seq_length, dec_seq_length, latent_dim))(dec_repeat_vector)\n",
    "    reshape_dec_repeat_vector = Permute((2, 1, 3))(reshape_dec_repeat_vector)\n",
    "    print(reshape_enc_repeat_vector.get_shape())\n",
    "    print(reshape_dec_repeat_vector.get_shape())\n",
    "\n",
    "#     concat = Lambda(lambda x: K.batch_dot(x[0], x[1], axes=[2, 1]))([reshape_enc_repeat_vector, reshape_dec_repeat_vector])\n",
    "    concat = Concatenate()([reshape_dec_repeat_vector, reshape_enc_repeat_vector])\n",
    "\n",
    "    model = Model(inputs=[encoder_inputs, decoder_inputs], outputs=concat)\n",
    "    model.compile(loss='mse', optimizer='adam')\n",
    "    return model"
   ]
  },
  {
   "cell_type": "code",
   "execution_count": 84,
   "metadata": {
    "scrolled": true
   },
   "outputs": [
    {
     "name": "stdout",
     "output_type": "stream",
     "text": [
      "(?, 8, 20)\n",
      "(?, 10, 16)\n",
      "(?, 8, 10, 2)\n",
      "(?, 8, 10, 2)\n",
      "[[[[3. 6. 2. 5.]\n",
      "   [3. 6. 2. 8.]\n",
      "   [3. 6. 7. 0.]\n",
      "   [3. 6. 7. 8.]\n",
      "   [3. 6. 7. 4.]\n",
      "   [3. 6. 5. 2.]\n",
      "   [3. 6. 6. 7.]\n",
      "   [3. 6. 1. 1.]\n",
      "   [3. 6. 2. 4.]\n",
      "   [3. 6. 1. 5.]]\n",
      "\n",
      "  [[1. 3. 2. 5.]\n",
      "   [1. 3. 2. 8.]\n",
      "   [1. 3. 7. 0.]\n",
      "   [1. 3. 7. 8.]\n",
      "   [1. 3. 7. 4.]\n",
      "   [1. 3. 5. 2.]\n",
      "   [1. 3. 6. 7.]\n",
      "   [1. 3. 1. 1.]\n",
      "   [1. 3. 2. 4.]\n",
      "   [1. 3. 1. 5.]]\n",
      "\n",
      "  [[2. 5. 2. 5.]\n",
      "   [2. 5. 2. 8.]\n",
      "   [2. 5. 7. 0.]\n",
      "   [2. 5. 7. 8.]\n",
      "   [2. 5. 7. 4.]\n",
      "   [2. 5. 5. 2.]\n",
      "   [2. 5. 6. 7.]\n",
      "   [2. 5. 1. 1.]\n",
      "   [2. 5. 2. 4.]\n",
      "   [2. 5. 1. 5.]]\n",
      "\n",
      "  [[7. 4. 2. 5.]\n",
      "   [7. 4. 2. 8.]\n",
      "   [7. 4. 7. 0.]\n",
      "   [7. 4. 7. 8.]\n",
      "   [7. 4. 7. 4.]\n",
      "   [7. 4. 5. 2.]\n",
      "   [7. 4. 6. 7.]\n",
      "   [7. 4. 1. 1.]\n",
      "   [7. 4. 2. 4.]\n",
      "   [7. 4. 1. 5.]]\n",
      "\n",
      "  [[0. 9. 2. 5.]\n",
      "   [0. 9. 2. 8.]\n",
      "   [0. 9. 7. 0.]\n",
      "   [0. 9. 7. 8.]\n",
      "   [0. 9. 7. 4.]\n",
      "   [0. 9. 5. 2.]\n",
      "   [0. 9. 6. 7.]\n",
      "   [0. 9. 1. 1.]\n",
      "   [0. 9. 2. 4.]\n",
      "   [0. 9. 1. 5.]]\n",
      "\n",
      "  [[9. 5. 2. 5.]\n",
      "   [9. 5. 2. 8.]\n",
      "   [9. 5. 7. 0.]\n",
      "   [9. 5. 7. 8.]\n",
      "   [9. 5. 7. 4.]\n",
      "   [9. 5. 5. 2.]\n",
      "   [9. 5. 6. 7.]\n",
      "   [9. 5. 1. 1.]\n",
      "   [9. 5. 2. 4.]\n",
      "   [9. 5. 1. 5.]]\n",
      "\n",
      "  [[0. 1. 2. 5.]\n",
      "   [0. 1. 2. 8.]\n",
      "   [0. 1. 7. 0.]\n",
      "   [0. 1. 7. 8.]\n",
      "   [0. 1. 7. 4.]\n",
      "   [0. 1. 5. 2.]\n",
      "   [0. 1. 6. 7.]\n",
      "   [0. 1. 1. 1.]\n",
      "   [0. 1. 2. 4.]\n",
      "   [0. 1. 1. 5.]]\n",
      "\n",
      "  [[5. 7. 2. 5.]\n",
      "   [5. 7. 2. 8.]\n",
      "   [5. 7. 7. 0.]\n",
      "   [5. 7. 7. 8.]\n",
      "   [5. 7. 7. 4.]\n",
      "   [5. 7. 5. 2.]\n",
      "   [5. 7. 6. 7.]\n",
      "   [5. 7. 1. 1.]\n",
      "   [5. 7. 2. 4.]\n",
      "   [5. 7. 1. 5.]]]]\n"
     ]
    }
   ],
   "source": [
    "model = get_reshape_repeat_model()\n",
    "b = model.predict([enc_input, dec_input])\n",
    "print(b)"
   ]
  },
  {
   "cell_type": "code",
   "execution_count": 85,
   "metadata": {},
   "outputs": [
    {
     "data": {
      "text/plain": [
       "(1, 8, 10, 4)"
      ]
     },
     "execution_count": 85,
     "metadata": {},
     "output_type": "execute_result"
    }
   ],
   "source": [
    "b.shape"
   ]
  },
  {
   "cell_type": "markdown",
   "metadata": {},
   "source": [
    "# Check Equality"
   ]
  },
  {
   "cell_type": "code",
   "execution_count": 86,
   "metadata": {
    "scrolled": true
   },
   "outputs": [
    {
     "data": {
      "text/plain": [
       "array([[[[ True,  True,  True,  True],\n",
       "         [ True,  True,  True,  True],\n",
       "         [ True,  True,  True,  True],\n",
       "         [ True,  True,  True,  True],\n",
       "         [ True,  True,  True,  True],\n",
       "         [ True,  True,  True,  True],\n",
       "         [ True,  True,  True,  True],\n",
       "         [ True,  True,  True,  True],\n",
       "         [ True,  True,  True,  True],\n",
       "         [ True,  True,  True,  True]],\n",
       "\n",
       "        [[ True,  True,  True,  True],\n",
       "         [ True,  True,  True,  True],\n",
       "         [ True,  True,  True,  True],\n",
       "         [ True,  True,  True,  True],\n",
       "         [ True,  True,  True,  True],\n",
       "         [ True,  True,  True,  True],\n",
       "         [ True,  True,  True,  True],\n",
       "         [ True,  True,  True,  True],\n",
       "         [ True,  True,  True,  True],\n",
       "         [ True,  True,  True,  True]],\n",
       "\n",
       "        [[ True,  True,  True,  True],\n",
       "         [ True,  True,  True,  True],\n",
       "         [ True,  True,  True,  True],\n",
       "         [ True,  True,  True,  True],\n",
       "         [ True,  True,  True,  True],\n",
       "         [ True,  True,  True,  True],\n",
       "         [ True,  True,  True,  True],\n",
       "         [ True,  True,  True,  True],\n",
       "         [ True,  True,  True,  True],\n",
       "         [ True,  True,  True,  True]],\n",
       "\n",
       "        [[ True,  True,  True,  True],\n",
       "         [ True,  True,  True,  True],\n",
       "         [ True,  True,  True,  True],\n",
       "         [ True,  True,  True,  True],\n",
       "         [ True,  True,  True,  True],\n",
       "         [ True,  True,  True,  True],\n",
       "         [ True,  True,  True,  True],\n",
       "         [ True,  True,  True,  True],\n",
       "         [ True,  True,  True,  True],\n",
       "         [ True,  True,  True,  True]],\n",
       "\n",
       "        [[ True,  True,  True,  True],\n",
       "         [ True,  True,  True,  True],\n",
       "         [ True,  True,  True,  True],\n",
       "         [ True,  True,  True,  True],\n",
       "         [ True,  True,  True,  True],\n",
       "         [ True,  True,  True,  True],\n",
       "         [ True,  True,  True,  True],\n",
       "         [ True,  True,  True,  True],\n",
       "         [ True,  True,  True,  True],\n",
       "         [ True,  True,  True,  True]],\n",
       "\n",
       "        [[ True,  True,  True,  True],\n",
       "         [ True,  True,  True,  True],\n",
       "         [ True,  True,  True,  True],\n",
       "         [ True,  True,  True,  True],\n",
       "         [ True,  True,  True,  True],\n",
       "         [ True,  True,  True,  True],\n",
       "         [ True,  True,  True,  True],\n",
       "         [ True,  True,  True,  True],\n",
       "         [ True,  True,  True,  True],\n",
       "         [ True,  True,  True,  True]],\n",
       "\n",
       "        [[ True,  True,  True,  True],\n",
       "         [ True,  True,  True,  True],\n",
       "         [ True,  True,  True,  True],\n",
       "         [ True,  True,  True,  True],\n",
       "         [ True,  True,  True,  True],\n",
       "         [ True,  True,  True,  True],\n",
       "         [ True,  True,  True,  True],\n",
       "         [ True,  True,  True,  True],\n",
       "         [ True,  True,  True,  True],\n",
       "         [ True,  True,  True,  True]],\n",
       "\n",
       "        [[ True,  True,  True,  True],\n",
       "         [ True,  True,  True,  True],\n",
       "         [ True,  True,  True,  True],\n",
       "         [ True,  True,  True,  True],\n",
       "         [ True,  True,  True,  True],\n",
       "         [ True,  True,  True,  True],\n",
       "         [ True,  True,  True,  True],\n",
       "         [ True,  True,  True,  True],\n",
       "         [ True,  True,  True,  True],\n",
       "         [ True,  True,  True,  True]]]])"
      ]
     },
     "execution_count": 86,
     "metadata": {},
     "output_type": "execute_result"
    }
   ],
   "source": [
    "np.equal(a, b)"
   ]
  },
  {
   "cell_type": "code",
   "execution_count": null,
   "metadata": {},
   "outputs": [],
   "source": []
  }
 ],
 "metadata": {
  "kernelspec": {
   "display_name": "brainwave_eeg",
   "language": "python",
   "name": "brainwave_eeg"
  },
  "language_info": {
   "codemirror_mode": {
    "name": "ipython",
    "version": 3
   },
   "file_extension": ".py",
   "mimetype": "text/x-python",
   "name": "python",
   "nbconvert_exporter": "python",
   "pygments_lexer": "ipython3",
   "version": "3.6.5"
  }
 },
 "nbformat": 4,
 "nbformat_minor": 2
}

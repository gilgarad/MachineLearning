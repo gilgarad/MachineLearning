{
 "cells": [
  {
   "cell_type": "markdown",
   "metadata": {},
   "source": [
    "# 이 쥬피터 노트북은 Keras의 기능을 정확히 알고 이해하기 위해 테스트하기 위해 생성되었습니다."
   ]
  },
  {
   "cell_type": "markdown",
   "metadata": {},
   "source": [
    "# Embedding test"
   ]
  },
  {
   "cell_type": "code",
   "execution_count": 1,
   "metadata": {},
   "outputs": [
    {
     "name": "stderr",
     "output_type": "stream",
     "text": [
      "Using TensorFlow backend.\n"
     ]
    }
   ],
   "source": [
    "from keras.layers import Embedding\n",
    "from keras.models import Sequential\n",
    "from keras.constraints import MinMaxNorm\n",
    "from keras.initializers import RandomUniform\n",
    "\n",
    "import numpy as np"
   ]
  },
  {
   "cell_type": "code",
   "execution_count": 7,
   "metadata": {
    "scrolled": true
   },
   "outputs": [
    {
     "name": "stdout",
     "output_type": "stream",
     "text": [
      "[[306 195 913 815 717 639 377 598 655 513]]\n",
      "[[306 195 913 815 717 639 377 598 655   0]]\n"
     ]
    }
   ],
   "source": [
    "input_array = np.random.randint(1000, size=(1, 10))\n",
    "print(input_array)\n",
    "input_array[:, -1] = 0\n",
    "print(input_array)"
   ]
  },
  {
   "cell_type": "code",
   "execution_count": 8,
   "metadata": {},
   "outputs": [],
   "source": [
    "model = Sequential()\n",
    "model.add(Embedding(1000, 64, \n",
    "#                     embeddings_constraint=MinMaxNorm(min_value=0.0, max_value=1.0, axis=1),\n",
    "                    embeddings_initializer=RandomUniform(minval=0.0, maxval=1.0),\n",
    "                    input_length=10))\n",
    "# the model will take as input an integer matrix of size (batch, input_length).\n",
    "# the largest integer (i.e. word index) in the input should be\n",
    "# no larger than 999 (vocabulary size).\n",
    "# now model.output_shape == (None, 10, 64), where None is the batch dimension.\n",
    "\n",
    "model.compile('rmsprop', 'mse')\n",
    "output_array = model.predict(input_array)\n",
    "assert output_array.shape == (1, 10, 64)"
   ]
  },
  {
   "cell_type": "code",
   "execution_count": 9,
   "metadata": {
    "scrolled": true
   },
   "outputs": [
    {
     "data": {
      "text/plain": [
       "array([[[1.57068253e-01, 4.14005280e-01, 1.11938715e-02, 3.28269958e-01,\n",
       "         1.21910691e-01, 1.79611564e-01, 4.29499149e-03, 9.83291149e-01,\n",
       "         3.01469564e-02, 6.95359588e-01, 3.02027464e-01, 8.26856136e-01,\n",
       "         4.55428720e-01, 1.38051748e-01, 5.47891140e-01, 9.10370588e-01,\n",
       "         5.50666690e-01, 7.89451599e-01, 5.75811744e-01, 9.44201469e-01,\n",
       "         6.38316870e-01, 5.87837934e-01, 9.21189666e-01, 2.90876031e-01,\n",
       "         4.32536602e-01, 9.46827531e-01, 1.53092384e-01, 6.94501400e-02,\n",
       "         7.59752750e-01, 3.22652102e-01, 7.37296224e-01, 8.32915783e-01,\n",
       "         1.84330821e-01, 3.42403889e-01, 3.30157280e-02, 5.91504097e-01,\n",
       "         2.00174928e-01, 2.98762679e-01, 9.65146899e-01, 3.56773973e-01,\n",
       "         3.71452570e-01, 7.48621702e-01, 3.08681846e-01, 1.75964236e-01,\n",
       "         3.73154759e-01, 6.45201445e-01, 3.56435776e-03, 3.95624876e-01,\n",
       "         2.74600625e-01, 4.41686392e-01, 9.06535029e-01, 6.45145178e-01,\n",
       "         1.73165798e-01, 4.34506893e-01, 8.67923260e-01, 5.84856033e-01,\n",
       "         9.17564392e-01, 6.35461926e-01, 8.44125867e-01, 8.40321183e-01,\n",
       "         2.33155370e-01, 6.17529035e-01, 6.72735572e-01, 2.24544048e-01],\n",
       "        [3.01499128e-01, 8.08459401e-01, 9.01919723e-01, 1.74268842e-01,\n",
       "         3.90026331e-01, 9.81060863e-01, 8.67802739e-01, 9.92331028e-01,\n",
       "         4.72805381e-01, 2.14592457e-01, 9.42460179e-01, 4.12172079e-01,\n",
       "         2.66141176e-01, 4.20224667e-01, 8.50283384e-01, 5.70034146e-01,\n",
       "         3.09828281e-01, 8.34156990e-01, 7.27107286e-01, 9.38016295e-01,\n",
       "         3.11146379e-01, 5.41979074e-02, 7.72750616e-01, 4.62313533e-01,\n",
       "         4.89803076e-01, 1.48885846e-01, 1.09397769e-01, 3.27480555e-01,\n",
       "         8.06307316e-01, 5.63171029e-01, 2.29508996e-01, 7.24654794e-01,\n",
       "         5.53083897e-01, 7.92528391e-01, 4.62610602e-01, 3.50386858e-01,\n",
       "         7.88746357e-01, 6.12169981e-01, 9.96047974e-01, 5.03544331e-01,\n",
       "         3.92592549e-01, 6.09265685e-01, 8.67673397e-01, 8.68433833e-01,\n",
       "         5.43240428e-01, 8.96321058e-01, 7.08924055e-01, 3.89685988e-01,\n",
       "         4.48397160e-01, 4.14118409e-01, 8.95307064e-02, 6.62248135e-01,\n",
       "         7.22534180e-01, 3.09429288e-01, 6.19237542e-01, 1.56104565e-02,\n",
       "         7.53408670e-02, 4.74852681e-01, 9.67488050e-01, 3.17856431e-01,\n",
       "         8.49863768e-01, 2.19590545e-01, 5.27058363e-01, 6.45960212e-01],\n",
       "        [2.69176841e-01, 3.60106587e-01, 7.19510794e-01, 8.36733937e-01,\n",
       "         1.87605262e-01, 7.11381435e-01, 2.70593166e-02, 3.30784678e-01,\n",
       "         9.64402676e-01, 5.61519504e-01, 3.26225281e-01, 4.61776257e-01,\n",
       "         2.06525207e-01, 8.15585375e-01, 9.64279413e-01, 6.46940112e-01,\n",
       "         2.57552266e-01, 7.14938641e-02, 8.46388340e-02, 5.39363265e-01,\n",
       "         2.43210673e-01, 4.37189817e-01, 5.69291711e-01, 2.37343788e-01,\n",
       "         7.00294971e-02, 2.00465918e-02, 1.80725455e-01, 2.47283816e-01,\n",
       "         3.63600850e-01, 9.22894835e-01, 1.70657396e-01, 9.94113684e-01,\n",
       "         2.18832612e-01, 6.64266229e-01, 2.76609540e-01, 2.67556906e-01,\n",
       "         6.70645833e-01, 1.47605896e-01, 6.56463742e-01, 1.67773962e-02,\n",
       "         2.61720300e-01, 5.51543474e-01, 6.75389886e-01, 6.36228085e-01,\n",
       "         7.20188498e-01, 4.85427618e-01, 3.14952493e-01, 7.27913380e-01,\n",
       "         6.06952548e-01, 3.43688965e-01, 5.03220558e-01, 3.62704396e-01,\n",
       "         7.69547224e-01, 4.30183649e-01, 2.58362055e-01, 9.93579626e-01,\n",
       "         6.33128047e-01, 7.61988640e-01, 3.74807954e-01, 6.29305840e-04,\n",
       "         6.26636982e-01, 9.66094613e-01, 9.72788215e-01, 7.31325150e-02],\n",
       "        [1.92980766e-02, 8.84800434e-01, 3.24012637e-01, 6.08911991e-01,\n",
       "         7.69717455e-01, 1.50390267e-01, 2.83380866e-01, 3.88545156e-01,\n",
       "         2.21616983e-01, 8.05058002e-01, 7.25799203e-01, 9.47047114e-01,\n",
       "         4.94776487e-01, 8.98582220e-01, 7.27714300e-01, 3.68435264e-01,\n",
       "         6.29711747e-01, 9.43438888e-01, 5.20337820e-01, 4.51033115e-02,\n",
       "         5.96047640e-02, 8.55975747e-01, 8.30423832e-03, 9.64644074e-01,\n",
       "         1.55643106e-01, 5.87085366e-01, 9.33155060e-01, 6.59058332e-01,\n",
       "         4.29021955e-01, 5.61167240e-01, 4.34876680e-02, 4.59475756e-01,\n",
       "         6.17791891e-01, 7.51216173e-01, 4.19382095e-01, 1.79855704e-01,\n",
       "         8.58643889e-01, 3.19044709e-01, 5.59399724e-01, 4.20310616e-01,\n",
       "         3.81624699e-02, 9.14807916e-01, 5.66906691e-01, 7.41161227e-01,\n",
       "         8.82586837e-01, 5.33321857e-01, 7.96671391e-01, 3.88402224e-01,\n",
       "         5.13174891e-01, 6.27064109e-01, 3.66369963e-01, 7.12774754e-01,\n",
       "         5.29267788e-01, 6.03996038e-01, 2.29499698e-01, 2.50151038e-01,\n",
       "         8.94469738e-01, 2.76615500e-01, 6.79892421e-01, 3.93773317e-02,\n",
       "         1.95013165e-01, 6.36565685e-01, 1.49484873e-01, 5.35378933e-01],\n",
       "        [7.79561520e-01, 5.93528152e-01, 7.69696832e-01, 4.39837694e-01,\n",
       "         3.34094048e-01, 2.95018911e-01, 4.77076173e-01, 8.29050541e-01,\n",
       "         8.85587096e-01, 2.05946445e-01, 4.19596314e-01, 1.90448761e-02,\n",
       "         4.72457409e-02, 1.99202299e-02, 4.09623265e-01, 8.90681863e-01,\n",
       "         3.68558645e-01, 8.77275348e-01, 7.68581629e-01, 5.83877563e-01,\n",
       "         9.22791600e-01, 9.96799469e-02, 5.73549986e-01, 5.69519877e-01,\n",
       "         8.82160664e-02, 6.35540247e-01, 9.45183039e-02, 4.28358078e-01,\n",
       "         7.05976367e-01, 5.30901074e-01, 1.58461690e-01, 4.95046258e-01,\n",
       "         5.97589493e-01, 3.85176420e-01, 9.00543690e-01, 6.72357678e-01,\n",
       "         9.38340068e-01, 1.64994240e-01, 5.95735312e-02, 9.70528126e-01,\n",
       "         7.45308042e-01, 8.05131674e-01, 4.36886907e-01, 9.45379615e-01,\n",
       "         1.51836872e-03, 6.83732510e-01, 3.99912119e-01, 2.02415824e-01,\n",
       "         8.53634596e-01, 8.57937217e-01, 1.78322315e-01, 2.46004820e-01,\n",
       "         2.68996954e-01, 5.20512342e-01, 5.59414506e-01, 1.02209687e-01,\n",
       "         8.18569660e-02, 8.76816988e-01, 8.61174941e-01, 2.36529231e-01,\n",
       "         9.58830476e-01, 2.33183026e-01, 9.96000886e-01, 5.57596922e-01],\n",
       "        [7.98492074e-01, 1.31595254e-01, 7.60588527e-01, 9.85054731e-01,\n",
       "         2.23056555e-01, 9.06976700e-01, 1.72323227e-01, 5.28893828e-01,\n",
       "         6.39188290e-03, 1.80567503e-01, 3.96827221e-01, 4.29476380e-01,\n",
       "         9.57514048e-02, 4.17571425e-01, 6.44076586e-01, 5.43747663e-01,\n",
       "         6.78643584e-01, 2.55312324e-01, 7.80308604e-01, 3.44864726e-01,\n",
       "         2.79378533e-01, 7.05793142e-01, 6.51441455e-01, 9.97259498e-01,\n",
       "         9.99875307e-01, 4.56806064e-01, 9.42144871e-01, 6.68936610e-01,\n",
       "         8.77574563e-01, 4.81022120e-01, 8.73018026e-01, 1.64437532e-01,\n",
       "         8.90371919e-01, 4.08981681e-01, 6.30091071e-01, 7.48628616e-01,\n",
       "         5.65447450e-01, 7.06662059e-01, 1.19315267e-01, 2.98121452e-01,\n",
       "         7.25927591e-01, 7.53380179e-01, 7.72709370e-01, 7.23117113e-01,\n",
       "         2.84522533e-01, 5.96978903e-01, 1.90079927e-01, 5.79332113e-02,\n",
       "         8.48139882e-01, 8.56750011e-02, 8.88032079e-01, 7.05273628e-01,\n",
       "         5.78242779e-01, 7.65875340e-01, 4.44929600e-02, 9.63081956e-01,\n",
       "         6.18857503e-01, 4.99902964e-01, 5.32233119e-01, 7.36481428e-01,\n",
       "         2.29688406e-01, 3.93129230e-01, 5.35221577e-01, 5.31129599e-01],\n",
       "        [4.11316991e-01, 9.12121773e-01, 5.60196042e-01, 9.17977810e-01,\n",
       "         7.52641201e-01, 3.34497690e-02, 3.04771781e-01, 4.13199425e-01,\n",
       "         2.53687143e-01, 8.62429857e-01, 6.29399776e-01, 1.21412277e-01,\n",
       "         9.87590551e-02, 2.77463794e-01, 4.98677731e-01, 6.00491881e-01,\n",
       "         1.83240891e-01, 2.79378653e-01, 6.87583089e-01, 4.29721951e-01,\n",
       "         2.63326168e-02, 6.77348971e-01, 1.59369826e-01, 4.31969643e-01,\n",
       "         6.23517513e-01, 4.68293786e-01, 1.22302413e-01, 9.05288935e-01,\n",
       "         5.38457632e-02, 6.75844669e-01, 4.34623480e-01, 4.24577951e-01,\n",
       "         3.06295872e-01, 7.36147404e-01, 6.36922479e-01, 9.83731627e-01,\n",
       "         7.67989635e-01, 3.90244603e-01, 6.76228642e-01, 3.92941713e-01,\n",
       "         6.13875389e-02, 3.01396847e-02, 8.34731221e-01, 8.81853580e-01,\n",
       "         4.89844561e-01, 3.56464028e-01, 1.46665096e-01, 4.85951066e-01,\n",
       "         1.74845457e-02, 8.57316017e-01, 2.10602999e-01, 7.06494808e-01,\n",
       "         1.98695302e-01, 3.03750515e-01, 7.13191628e-01, 2.97825694e-01,\n",
       "         6.92077398e-01, 4.01904941e-01, 3.75225186e-01, 2.39022851e-01,\n",
       "         5.54575562e-01, 3.05689692e-01, 1.37430787e-01, 9.70781565e-01],\n",
       "        [3.77714634e-03, 7.40788341e-01, 5.87133169e-02, 7.23559737e-01,\n",
       "         7.65553236e-01, 3.79534960e-01, 3.76192689e-01, 1.76472664e-02,\n",
       "         5.84677100e-01, 6.87786579e-01, 2.12403178e-01, 3.26835394e-01,\n",
       "         6.88320160e-01, 1.11141443e-01, 1.54370427e-01, 9.53597307e-01,\n",
       "         8.04877639e-01, 4.80470300e-01, 4.12995338e-01, 6.83920979e-01,\n",
       "         1.91447854e-01, 6.50472283e-01, 7.74024844e-01, 5.63210011e-01,\n",
       "         6.73864007e-01, 4.19831753e-01, 7.81818748e-01, 9.47520614e-01,\n",
       "         6.85334206e-03, 7.56365418e-01, 8.82042766e-01, 5.10814548e-01,\n",
       "         1.45931482e-01, 5.88021040e-01, 6.42893314e-02, 8.42663765e-01,\n",
       "         7.49668598e-01, 8.28557014e-02, 9.18487191e-01, 7.48131156e-01,\n",
       "         8.57931852e-01, 6.27239585e-01, 8.99693012e-01, 8.34268332e-02,\n",
       "         6.73166633e-01, 3.32134962e-02, 9.40198898e-01, 5.53858519e-01,\n",
       "         8.35349560e-01, 9.79838133e-01, 9.72617149e-01, 3.94883037e-01,\n",
       "         2.47527599e-01, 2.58359909e-02, 6.08110905e-01, 4.52780843e-01,\n",
       "         7.15274453e-01, 7.95367002e-01, 6.15183473e-01, 1.79772973e-01,\n",
       "         6.19323373e-01, 9.04001594e-01, 9.82159376e-01, 7.42650032e-03],\n",
       "        [2.23127604e-02, 2.70553112e-01, 4.98630047e-01, 6.82703257e-01,\n",
       "         6.34410977e-01, 3.09813619e-01, 5.41289449e-01, 9.45929885e-01,\n",
       "         4.94868159e-01, 8.53868604e-01, 1.84147477e-01, 8.33948970e-01,\n",
       "         1.14909410e-02, 2.41944790e-02, 9.39031959e-01, 4.29597855e-01,\n",
       "         4.87491727e-01, 3.69289637e-01, 1.72740817e-01, 4.98501062e-02,\n",
       "         7.92196274e-01, 1.33790970e-02, 2.01358795e-01, 9.75967646e-01,\n",
       "         2.97897220e-01, 5.28570175e-01, 7.86136985e-01, 4.35835361e-01,\n",
       "         3.53395939e-03, 6.60480618e-01, 5.52674174e-01, 7.19790578e-01,\n",
       "         1.26452923e-01, 4.36286807e-01, 1.61716938e-02, 9.19512510e-02,\n",
       "         1.00796103e-01, 9.28860903e-02, 3.77594233e-01, 6.78983927e-02,\n",
       "         7.12956548e-01, 7.08048344e-01, 4.73362565e-01, 1.99501157e-01,\n",
       "         5.93063712e-01, 2.06904888e-01, 7.89311171e-01, 4.26231861e-01,\n",
       "         3.95674706e-02, 3.21598768e-01, 3.21848750e-01, 3.57276678e-01,\n",
       "         6.28283620e-01, 9.10471678e-01, 3.70576978e-01, 8.17194343e-01,\n",
       "         6.89200997e-01, 6.15521073e-01, 7.19672918e-01, 5.73306441e-01,\n",
       "         6.22156382e-01, 6.44674182e-01, 5.00525355e-01, 6.36485696e-01],\n",
       "        [6.23870730e-01, 8.39619398e-01, 9.57886338e-01, 7.26469755e-02,\n",
       "         9.96884108e-01, 6.77833557e-01, 3.38354945e-01, 1.39473081e-01,\n",
       "         6.75331831e-01, 5.55227757e-01, 7.67262101e-01, 9.14563537e-01,\n",
       "         7.24112272e-01, 3.73364449e-01, 9.05492544e-01, 1.09818220e-01,\n",
       "         9.62338924e-01, 2.80814409e-01, 8.86124372e-01, 8.64666820e-01,\n",
       "         4.14265394e-01, 9.23443913e-01, 6.13306642e-01, 2.20021725e-01,\n",
       "         3.24337125e-01, 9.72095490e-01, 3.70603085e-01, 3.88904095e-01,\n",
       "         6.58525944e-01, 5.72799563e-01, 9.29612279e-01, 1.14102364e-02,\n",
       "         1.43257380e-01, 7.04085588e-01, 8.55374575e-01, 5.03399491e-01,\n",
       "         8.49676728e-01, 1.32489562e-01, 5.16069293e-01, 5.28202534e-01,\n",
       "         7.17556477e-01, 5.97572565e-01, 1.48005843e-01, 7.50678182e-01,\n",
       "         5.04096746e-01, 7.22541690e-01, 5.23862600e-01, 4.44084644e-01,\n",
       "         2.38669753e-01, 2.43905425e-01, 8.62903357e-01, 2.39023566e-01,\n",
       "         8.28970671e-01, 5.65235496e-01, 3.99247408e-01, 2.97007918e-01,\n",
       "         3.48738432e-02, 5.09910107e-01, 6.35017276e-01, 2.81421304e-01,\n",
       "         6.88923717e-01, 5.88887453e-01, 9.25758719e-01, 2.88662195e-01]]],\n",
       "      dtype=float32)"
      ]
     },
     "execution_count": 9,
     "metadata": {},
     "output_type": "execute_result"
    }
   ],
   "source": [
    "output_array"
   ]
  },
  {
   "cell_type": "markdown",
   "metadata": {},
   "source": [
    "# Lambda Test"
   ]
  },
  {
   "cell_type": "code",
   "execution_count": 2,
   "metadata": {},
   "outputs": [],
   "source": [
    "from keras.models import Sequential, Model\n",
    "from keras.layers import Lambda, Input, Concatenate, TimeDistributed, Dense\n",
    "import keras.backend.tensorflow_backend as K\n",
    "import numpy as np"
   ]
  },
  {
   "cell_type": "code",
   "execution_count": 3,
   "metadata": {},
   "outputs": [],
   "source": [
    "seq_length = 3\n",
    "latent_dim = 2\n",
    "input_array = np.random.randint(10, size=(1, seq_length, latent_dim))"
   ]
  },
  {
   "cell_type": "code",
   "execution_count": 4,
   "metadata": {},
   "outputs": [
    {
     "data": {
      "text/plain": [
       "array([[[3, 4],\n",
       "        [4, 7],\n",
       "        [0, 1]]])"
      ]
     },
     "execution_count": 4,
     "metadata": {},
     "output_type": "execute_result"
    }
   ],
   "source": [
    "input_array"
   ]
  },
  {
   "cell_type": "code",
   "execution_count": 6,
   "metadata": {},
   "outputs": [],
   "source": [
    "axis = 2\n",
    "def antirectifier(x):\n",
    "    \n",
    "    return x ** 2\n",
    "\n",
    "def antirectifier_output_shape(x):\n",
    "    return tuple((x[0], ) + x[1:axis] + (seq_length, ) + x[axis:])"
   ]
  },
  {
   "cell_type": "code",
   "execution_count": 7,
   "metadata": {
    "scrolled": true
   },
   "outputs": [],
   "source": [
    "model = Sequential()\n",
    "model.add(Lambda(antirectifier, antirectifier_output_shape))\n",
    "# model.add(Lambda(antirectifier))\n",
    "model.compile(optimizer='rmsprop', loss='mse')\n",
    "\n",
    "\n",
    "output_array = model.predict(input_array)"
   ]
  },
  {
   "cell_type": "code",
   "execution_count": 8,
   "metadata": {},
   "outputs": [
    {
     "name": "stdout",
     "output_type": "stream",
     "text": [
      "[2 2] -> [4. 4.]\n",
      "[6 3] -> [36.  9.]\n",
      "[7 1] -> [49.  1.]\n"
     ]
    }
   ],
   "source": [
    "for a, b in zip(input_array[0], output_array[0]):\n",
    "    print(a, '->',  b)"
   ]
  },
  {
   "cell_type": "markdown",
   "metadata": {},
   "source": [
    "# Repeat Vector Layer"
   ]
  },
  {
   "cell_type": "code",
   "execution_count": 5,
   "metadata": {},
   "outputs": [],
   "source": [
    "from keras.models import Sequential, Model\n",
    "from keras.layers import Lambda, Input, Concatenate, TimeDistributed, Dense\n",
    "import keras.backend.tensorflow_backend as K\n",
    "import numpy as np"
   ]
  },
  {
   "cell_type": "code",
   "execution_count": 6,
   "metadata": {},
   "outputs": [],
   "source": [
    "enc_seq_length = 3\n",
    "latent_dim = 2\n",
    "\n",
    "enc_input_array = np.random.randint(10, size=(1, enc_seq_length, latent_dim))\n",
    "dec_seq_length = 2\n",
    "dec_input_array = np.random.randint(10, size=(1, dec_seq_length, latent_dim))"
   ]
  },
  {
   "cell_type": "code",
   "execution_count": 8,
   "metadata": {},
   "outputs": [
    {
     "name": "stdout",
     "output_type": "stream",
     "text": [
      "[[[5 1]\n",
      "  [9 2]\n",
      "  [4 2]]]\n",
      "[[[8 5]\n",
      "  [0 8]]]\n"
     ]
    }
   ],
   "source": [
    "print(enc_input_array)\n",
    "print(dec_input_array)"
   ]
  },
  {
   "cell_type": "code",
   "execution_count": 7,
   "metadata": {},
   "outputs": [],
   "source": [
    "def RepeatVectorLayer(rep, axis):\n",
    "#     print(axis)\n",
    "    return lambda x: K.repeat_elements(K.expand_dims(x, axis), rep, axis)\n",
    "#     return K.repeat_elements(K.expand_dims(x, axis), rep, axis)"
   ]
  },
  {
   "cell_type": "code",
   "execution_count": 7,
   "metadata": {},
   "outputs": [
    {
     "name": "stdout",
     "output_type": "stream",
     "text": [
      "(?, 2, 3, 2)\n",
      "(?, 2, 3, 2)\n"
     ]
    }
   ],
   "source": [
    "enc_inputs = Input(shape=(enc_seq_length, latent_dim))\n",
    "dec_inputs = Input(shape=(dec_seq_length, latent_dim))\n",
    "\n",
    "repeat_d = Lambda(RepeatVectorLayer(enc_seq_length, 2))(dec_inputs)\n",
    "print(repeat_d.get_shape())\n",
    "repeat_e = Lambda(RepeatVectorLayer(dec_seq_length, 1))(enc_inputs)\n",
    "print(repeat_e.get_shape())\n",
    "outputs = Concatenate()([repeat_d, repeat_e])\n",
    "model = Model(inputs=[enc_inputs, dec_inputs], outputs=outputs)\n",
    "model.compile(optimizer='rmsprop', loss='mse')\n",
    "output_array = model.predict([enc_input_array, dec_input_array])"
   ]
  },
  {
   "cell_type": "code",
   "execution_count": 8,
   "metadata": {
    "scrolled": true
   },
   "outputs": [
    {
     "name": "stdout",
     "output_type": "stream",
     "text": [
      "[7 6] [0 9] -> [[0. 9. 7. 6.]\n",
      " [0. 9. 7. 6.]\n",
      " [0. 9. 2. 3.]]\n",
      "[7 6] [5 2] -> [[5. 2. 7. 6.]\n",
      " [5. 2. 7. 6.]\n",
      " [5. 2. 2. 3.]]\n"
     ]
    }
   ],
   "source": [
    "for a, b, c in zip(enc_input_array[0], dec_input_array[0], output_array[0]):\n",
    "    print(a, b, '->',  c)"
   ]
  },
  {
   "cell_type": "code",
   "execution_count": 12,
   "metadata": {},
   "outputs": [
    {
     "name": "stdout",
     "output_type": "stream",
     "text": [
      "(1, 3, 2)\n",
      "(1, 3, 3, 4)\n"
     ]
    }
   ],
   "source": [
    "print(input_array.shape)\n",
    "print(output_array.shape)"
   ]
  },
  {
   "cell_type": "markdown",
   "metadata": {},
   "source": [
    "# RepeatVector from Keras"
   ]
  },
  {
   "cell_type": "code",
   "execution_count": 72,
   "metadata": {},
   "outputs": [],
   "source": [
    "from keras.layers import RepeatVector, Reshape, Permute, TimeDistributed, concatenate, merge"
   ]
  },
  {
   "cell_type": "code",
   "execution_count": null,
   "metadata": {},
   "outputs": [],
   "source": []
  },
  {
   "cell_type": "code",
   "execution_count": 95,
   "metadata": {
    "scrolled": true
   },
   "outputs": [
    {
     "name": "stdout",
     "output_type": "stream",
     "text": [
      "(?, 6)\n",
      "(?, 3, 3, 2)\n",
      "(?, 3, 3, 2)\n"
     ]
    },
    {
     "ename": "TypeError",
     "evalue": "unhashable type: 'Dimension'",
     "output_type": "error",
     "traceback": [
      "\u001b[1;31m---------------------------------------------------------------------------\u001b[0m",
      "\u001b[1;31mTypeError\u001b[0m                                 Traceback (most recent call last)",
      "\u001b[1;32m<ipython-input-95-11688d9ddbec>\u001b[0m in \u001b[0;36m<module>\u001b[1;34m\u001b[0m\n\u001b[0;32m     14\u001b[0m \u001b[0mprint\u001b[0m\u001b[1;33m(\u001b[0m\u001b[0mrepeat_e\u001b[0m\u001b[1;33m.\u001b[0m\u001b[0mget_shape\u001b[0m\u001b[1;33m(\u001b[0m\u001b[1;33m)\u001b[0m\u001b[1;33m)\u001b[0m\u001b[1;33m\u001b[0m\u001b[0m\n\u001b[0;32m     15\u001b[0m \u001b[1;33m\u001b[0m\u001b[0m\n\u001b[1;32m---> 16\u001b[1;33m \u001b[0moutputs\u001b[0m \u001b[1;33m=\u001b[0m \u001b[0mConcatenate\u001b[0m\u001b[1;33m(\u001b[0m\u001b[1;33m-\u001b[0m\u001b[1;36m1\u001b[0m\u001b[1;33m)\u001b[0m\u001b[1;33m(\u001b[0m\u001b[1;33m[\u001b[0m\u001b[0mrepeat_d\u001b[0m\u001b[1;33m,\u001b[0m \u001b[0mrepeat_e\u001b[0m\u001b[1;33m]\u001b[0m\u001b[1;33m)\u001b[0m\u001b[1;33m\u001b[0m\u001b[0m\n\u001b[0m\u001b[0;32m     17\u001b[0m \u001b[0mmodel\u001b[0m \u001b[1;33m=\u001b[0m \u001b[0mModel\u001b[0m\u001b[1;33m(\u001b[0m\u001b[0minputs\u001b[0m\u001b[1;33m=\u001b[0m\u001b[0minputs\u001b[0m\u001b[1;33m,\u001b[0m \u001b[0moutputs\u001b[0m\u001b[1;33m=\u001b[0m\u001b[0moutputs\u001b[0m\u001b[1;33m)\u001b[0m\u001b[1;33m\u001b[0m\u001b[0m\n\u001b[0;32m     18\u001b[0m \u001b[0mmodel\u001b[0m\u001b[1;33m.\u001b[0m\u001b[0mcompile\u001b[0m\u001b[1;33m(\u001b[0m\u001b[0moptimizer\u001b[0m\u001b[1;33m=\u001b[0m\u001b[1;34m'rmsprop'\u001b[0m\u001b[1;33m,\u001b[0m \u001b[0mloss\u001b[0m\u001b[1;33m=\u001b[0m\u001b[1;34m'mse'\u001b[0m\u001b[1;33m)\u001b[0m\u001b[1;33m\u001b[0m\u001b[0m\n",
      "\u001b[1;32md:\\igs_projects\\nlp_nlu\\venv\\lib\\site-packages\\keras\\engine\\base_layer.py\u001b[0m in \u001b[0;36m__call__\u001b[1;34m(self, inputs, **kwargs)\u001b[0m\n\u001b[0;32m    429\u001b[0m                                          \u001b[1;34m'You can build it manually via: '\u001b[0m\u001b[1;33m\u001b[0m\u001b[0m\n\u001b[0;32m    430\u001b[0m                                          '`layer.build(batch_input_shape)`')\n\u001b[1;32m--> 431\u001b[1;33m                 \u001b[0mself\u001b[0m\u001b[1;33m.\u001b[0m\u001b[0mbuild\u001b[0m\u001b[1;33m(\u001b[0m\u001b[0munpack_singleton\u001b[0m\u001b[1;33m(\u001b[0m\u001b[0minput_shapes\u001b[0m\u001b[1;33m)\u001b[0m\u001b[1;33m)\u001b[0m\u001b[1;33m\u001b[0m\u001b[0m\n\u001b[0m\u001b[0;32m    432\u001b[0m                 \u001b[0mself\u001b[0m\u001b[1;33m.\u001b[0m\u001b[0mbuilt\u001b[0m \u001b[1;33m=\u001b[0m \u001b[1;32mTrue\u001b[0m\u001b[1;33m\u001b[0m\u001b[0m\n\u001b[0;32m    433\u001b[0m \u001b[1;33m\u001b[0m\u001b[0m\n",
      "\u001b[1;32md:\\igs_projects\\nlp_nlu\\venv\\lib\\site-packages\\keras\\layers\\merge.py\u001b[0m in \u001b[0;36mbuild\u001b[1;34m(self, input_shape)\u001b[0m\n\u001b[0;32m    355\u001b[0m         \u001b[1;32mfor\u001b[0m \u001b[0mi\u001b[0m \u001b[1;32min\u001b[0m \u001b[0mrange\u001b[0m\u001b[1;33m(\u001b[0m\u001b[0mlen\u001b[0m\u001b[1;33m(\u001b[0m\u001b[0mreduced_inputs_shapes\u001b[0m\u001b[1;33m)\u001b[0m\u001b[1;33m)\u001b[0m\u001b[1;33m:\u001b[0m\u001b[1;33m\u001b[0m\u001b[0m\n\u001b[0;32m    356\u001b[0m             \u001b[1;32mdel\u001b[0m \u001b[0mreduced_inputs_shapes\u001b[0m\u001b[1;33m[\u001b[0m\u001b[0mi\u001b[0m\u001b[1;33m]\u001b[0m\u001b[1;33m[\u001b[0m\u001b[0mself\u001b[0m\u001b[1;33m.\u001b[0m\u001b[0maxis\u001b[0m\u001b[1;33m]\u001b[0m\u001b[1;33m\u001b[0m\u001b[0m\n\u001b[1;32m--> 357\u001b[1;33m             \u001b[0mshape_set\u001b[0m\u001b[1;33m.\u001b[0m\u001b[0madd\u001b[0m\u001b[1;33m(\u001b[0m\u001b[0mtuple\u001b[0m\u001b[1;33m(\u001b[0m\u001b[0mreduced_inputs_shapes\u001b[0m\u001b[1;33m[\u001b[0m\u001b[0mi\u001b[0m\u001b[1;33m]\u001b[0m\u001b[1;33m)\u001b[0m\u001b[1;33m)\u001b[0m\u001b[1;33m\u001b[0m\u001b[0m\n\u001b[0m\u001b[0;32m    358\u001b[0m         \u001b[1;32mif\u001b[0m \u001b[0mlen\u001b[0m\u001b[1;33m(\u001b[0m\u001b[0mshape_set\u001b[0m\u001b[1;33m)\u001b[0m \u001b[1;33m>\u001b[0m \u001b[1;36m1\u001b[0m\u001b[1;33m:\u001b[0m\u001b[1;33m\u001b[0m\u001b[0m\n\u001b[0;32m    359\u001b[0m             raise ValueError('A `Concatenate` layer requires '\n",
      "\u001b[1;31mTypeError\u001b[0m: unhashable type: 'Dimension'"
     ]
    }
   ],
   "source": [
    "inputs = Input(shape=(seq_length, latent_dim))\n",
    "reshaped_d_inputs = Reshape((inputs.get_shape()[1] * inputs.get_shape()[2], ))(inputs)\n",
    "print(reshaped_d_inputs.get_shape())\n",
    "repeat_d_repeat = RepeatVector(seq_length)(reshaped_d_inputs)\n",
    "repeat_d = Reshape((seq_length, inputs.get_shape()[1], inputs.get_shape()[2]))(repeat_d_repeat)\n",
    "print(repeat_d.get_shape())\n",
    "\n",
    "\n",
    "permuted_e = Permute((2, 1))(inputs)\n",
    "reshaped_e_inputs = Reshape((inputs.get_shape()[1] * inputs.get_shape()[2], ))(permuted_e)\n",
    "permuted_e_repeat = RepeatVector(seq_length)(reshaped_e_inputs)\n",
    "repeat_e = Reshape((seq_length, inputs.get_shape()[2], inputs.get_shape()[1]))(permuted_e_repeat)\n",
    "repeat_e = Permute((1, 3, 2))(repeat_e)\n",
    "print(repeat_e.get_shape())\n",
    "\n",
    "outputs = Concatenate(-1)([repeat_d, repeat_e])\n",
    "model = Model(inputs=inputs, outputs=outputs)\n",
    "model.compile(optimizer='rmsprop', loss='mse')\n",
    "output_array = model.predict(input_array)"
   ]
  },
  {
   "cell_type": "code",
   "execution_count": 120,
   "metadata": {
    "scrolled": true
   },
   "outputs": [
    {
     "ename": "AssertionError",
     "evalue": "",
     "output_type": "error",
     "traceback": [
      "\u001b[1;31m---------------------------------------------------------------------------\u001b[0m",
      "\u001b[1;31mAssertionError\u001b[0m                            Traceback (most recent call last)",
      "\u001b[1;32m<ipython-input-120-ac4c0662b0f7>\u001b[0m in \u001b[0;36m<module>\u001b[1;34m\u001b[0m\n\u001b[0;32m      1\u001b[0m \u001b[0minputs\u001b[0m \u001b[1;33m=\u001b[0m \u001b[0mInput\u001b[0m\u001b[1;33m(\u001b[0m\u001b[0mshape\u001b[0m\u001b[1;33m=\u001b[0m\u001b[1;33m(\u001b[0m\u001b[0mseq_length\u001b[0m\u001b[1;33m,\u001b[0m \u001b[0mlatent_dim\u001b[0m\u001b[1;33m)\u001b[0m\u001b[1;33m)\u001b[0m\u001b[1;33m\u001b[0m\u001b[0m\n\u001b[1;32m----> 2\u001b[1;33m \u001b[0mrepeat_d\u001b[0m \u001b[1;33m=\u001b[0m \u001b[0mK\u001b[0m\u001b[1;33m.\u001b[0m\u001b[0mrepeat\u001b[0m\u001b[1;33m(\u001b[0m\u001b[0minputs\u001b[0m\u001b[1;33m,\u001b[0m \u001b[1;36m2\u001b[0m\u001b[1;33m)\u001b[0m\u001b[1;33m\u001b[0m\u001b[0m\n\u001b[0m\u001b[0;32m      3\u001b[0m \u001b[0mprint\u001b[0m\u001b[1;33m(\u001b[0m\u001b[0mrepeat_d\u001b[0m\u001b[1;33m.\u001b[0m\u001b[0mget_shape\u001b[0m\u001b[1;33m(\u001b[0m\u001b[1;33m)\u001b[0m\u001b[1;33m)\u001b[0m\u001b[1;33m\u001b[0m\u001b[0m\n\u001b[0;32m      4\u001b[0m \u001b[1;31m# # repeat_d = TimeDistributed(repeat_d)\u001b[0m\u001b[1;33m\u001b[0m\u001b[1;33m\u001b[0m\u001b[0m\n\u001b[0;32m      5\u001b[0m \u001b[1;33m\u001b[0m\u001b[0m\n",
      "\u001b[1;32md:\\igs_projects\\nlp_nlu\\venv\\lib\\site-packages\\keras\\backend\\tensorflow_backend.py\u001b[0m in \u001b[0;36mrepeat\u001b[1;34m(x, n)\u001b[0m\n\u001b[0;32m   2133\u001b[0m         \u001b[0mA\u001b[0m \u001b[0mtensor\u001b[0m\u001b[1;33m.\u001b[0m\u001b[1;33m\u001b[0m\u001b[0m\n\u001b[0;32m   2134\u001b[0m     \"\"\"\n\u001b[1;32m-> 2135\u001b[1;33m     \u001b[1;32massert\u001b[0m \u001b[0mndim\u001b[0m\u001b[1;33m(\u001b[0m\u001b[0mx\u001b[0m\u001b[1;33m)\u001b[0m \u001b[1;33m==\u001b[0m \u001b[1;36m2\u001b[0m\u001b[1;33m\u001b[0m\u001b[0m\n\u001b[0m\u001b[0;32m   2136\u001b[0m     \u001b[0mx\u001b[0m \u001b[1;33m=\u001b[0m \u001b[0mtf\u001b[0m\u001b[1;33m.\u001b[0m\u001b[0mexpand_dims\u001b[0m\u001b[1;33m(\u001b[0m\u001b[0mx\u001b[0m\u001b[1;33m,\u001b[0m \u001b[1;36m1\u001b[0m\u001b[1;33m)\u001b[0m\u001b[1;33m\u001b[0m\u001b[0m\n\u001b[0;32m   2137\u001b[0m     \u001b[0mpattern\u001b[0m \u001b[1;33m=\u001b[0m \u001b[0mtf\u001b[0m\u001b[1;33m.\u001b[0m\u001b[0mstack\u001b[0m\u001b[1;33m(\u001b[0m\u001b[1;33m[\u001b[0m\u001b[1;36m1\u001b[0m\u001b[1;33m,\u001b[0m \u001b[0mn\u001b[0m\u001b[1;33m,\u001b[0m \u001b[1;36m1\u001b[0m\u001b[1;33m]\u001b[0m\u001b[1;33m)\u001b[0m\u001b[1;33m\u001b[0m\u001b[0m\n",
      "\u001b[1;31mAssertionError\u001b[0m: "
     ]
    }
   ],
   "source": [
    "inputs = Input(shape=(seq_length, latent_dim))\n",
    "repeat_d = K.repeat(inputs, 2)\n",
    "print(repeat_d.get_shape())\n",
    "# # repeat_d = TimeDistributed(repeat_d)\n",
    "\n",
    "\n",
    "# reshaped_e_inputs = Reshape((inputs.get_shape()[1] * inputs.get_shape()[2], ))(inputs)\n",
    "# print(reshaped_e_inputs.get_shape())\n",
    "# repeat_e =  RepeatVector(seq_length)(reshaped_e_inputs)\n",
    "# print(repeat_e.get_shape())\n",
    "# # repeat_e = Reshape((seq_length, seq_length, latent_dim))(repeat_e)\n",
    "\n",
    "# # outputs = Concatenate()([repeat_d, repeat_e])\n",
    "# outputs = np.concatenate([repeat_d, repeat_e])\n",
    "\n",
    "model = Model(inputs=inputs, outputs=repeat_d)\n",
    "model.compile(optimizer='rmsprop', loss='mse')\n",
    "output_array = model.predict(input_array)"
   ]
  },
  {
   "cell_type": "code",
   "execution_count": 82,
   "metadata": {},
   "outputs": [
    {
     "name": "stdout",
     "output_type": "stream",
     "text": [
      "[2 2] -> [[[2. 2.]\n",
      "  [6. 3.]\n",
      "  [7. 1.]]\n",
      "\n",
      " [[2. 2.]\n",
      "  [6. 3.]\n",
      "  [7. 1.]]\n",
      "\n",
      " [[2. 2.]\n",
      "  [6. 3.]\n",
      "  [7. 1.]]]\n"
     ]
    }
   ],
   "source": [
    "for a, b in zip(input_array[0], output_array[0]):\n",
    "    print(a, '->',  b)"
   ]
  },
  {
   "cell_type": "code",
   "execution_count": null,
   "metadata": {},
   "outputs": [],
   "source": []
  },
  {
   "cell_type": "markdown",
   "metadata": {},
   "source": [
    "# Attention layer test"
   ]
  },
  {
   "cell_type": "code",
   "execution_count": 10,
   "metadata": {
    "scrolled": true
   },
   "outputs": [
    {
     "name": "stdout",
     "output_type": "stream",
     "text": [
      "__________________________________________________________________________________________________\n",
      "Layer (type)                    Output Shape         Param #     Connected to                     \n",
      "==================================================================================================\n",
      "input_1 (InputLayer)            (None, 3, 2)         0                                            \n",
      "__________________________________________________________________________________________________\n",
      "lambda_1 (Lambda)               (None, 3, 3, 2)      0           input_1[0][0]                    \n",
      "__________________________________________________________________________________________________\n",
      "lambda_2 (Lambda)               (None, 3, 3, 2)      0           input_1[0][0]                    \n",
      "__________________________________________________________________________________________________\n",
      "concatenate_1 (Concatenate)     (None, 3, 3, 4)      0           lambda_1[0][0]                   \n",
      "                                                                 lambda_2[0][0]                   \n",
      "__________________________________________________________________________________________________\n",
      "time_distributed_1 (TimeDistrib (None, 3, 3, 1)      5           concatenate_1[0][0]              \n",
      "==================================================================================================\n",
      "Total params: 5\n",
      "Trainable params: 5\n",
      "Non-trainable params: 0\n",
      "__________________________________________________________________________________________________\n",
      "None\n"
     ]
    }
   ],
   "source": [
    "inputs = Input(shape=(seq_length, latent_dim))\n",
    "repeat_d = Lambda(RepeatVectorLayer(seq_length, 2))(inputs)\n",
    "repeat_e = Lambda(RepeatVectorLayer(seq_length, 1))(inputs)\n",
    "concat_v = Concatenate()([repeat_d, repeat_e])\n",
    "dense_score_layer = TimeDistributed(Dense(latent_dim // 2, activation='tanh'))\n",
    "dense_score = dense_score_layer(concat_v)\n",
    "outputs = dense_score\n",
    "\n",
    "model = Model(inputs=inputs, outputs=outputs)\n",
    "model.compile(optimizer='rmsprop', loss='mse')\n",
    "print(model.summary())\n",
    "output_array = model.predict(input_array)"
   ]
  },
  {
   "cell_type": "code",
   "execution_count": 11,
   "metadata": {
    "scrolled": true
   },
   "outputs": [],
   "source": [
    "layer_outputs = list()\n",
    "for idx, l in enumerate(model.layers):\n",
    "    if idx == 0:\n",
    "        continue\n",
    "    layer_outputs.append(l.output)\n",
    "get_3rd_layer_output = K.function([model.layers[0].input],\n",
    "                                  layer_outputs)\n",
    "layer_output = get_3rd_layer_output([input_array])"
   ]
  },
  {
   "cell_type": "code",
   "execution_count": 12,
   "metadata": {},
   "outputs": [
    {
     "name": "stdout",
     "output_type": "stream",
     "text": [
      "\n",
      "[[3. 4.]\n",
      " [3. 4.]\n",
      " [3. 4.]]\n",
      "\n",
      "[[3. 4.]\n",
      " [4. 7.]\n",
      " [0. 1.]]\n",
      "\n",
      "[[3. 4. 3. 4.]\n",
      " [3. 4. 4. 7.]\n",
      " [3. 4. 0. 1.]]\n",
      "\n",
      "[[-0.95543253]\n",
      " [-0.8898261 ]\n",
      " [-0.3718664 ]]\n",
      "\n"
     ]
    }
   ],
   "source": [
    "print()\n",
    "for l_output in layer_output:\n",
    "    print(l_output[0][0])\n",
    "    print('')"
   ]
  },
  {
   "cell_type": "code",
   "execution_count": 13,
   "metadata": {},
   "outputs": [
    {
     "data": {
      "text/plain": [
       "array([[3., 4.],\n",
       "       [3., 4.],\n",
       "       [3., 4.]], dtype=float32)"
      ]
     },
     "execution_count": 13,
     "metadata": {},
     "output_type": "execute_result"
    }
   ],
   "source": [
    "layer_output[0][0][0]"
   ]
  },
  {
   "cell_type": "code",
   "execution_count": null,
   "metadata": {},
   "outputs": [],
   "source": []
  }
 ],
 "metadata": {
  "kernelspec": {
   "display_name": "nlp_nlu",
   "language": "python",
   "name": "nlp_nlu"
  },
  "language_info": {
   "codemirror_mode": {
    "name": "ipython",
    "version": 3
   },
   "file_extension": ".py",
   "mimetype": "text/x-python",
   "name": "python",
   "nbconvert_exporter": "python",
   "pygments_lexer": "ipython3",
   "version": "3.6.3"
  }
 },
 "nbformat": 4,
 "nbformat_minor": 2
}

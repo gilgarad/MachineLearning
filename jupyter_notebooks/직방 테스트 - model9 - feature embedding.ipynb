{
  "nbformat": 4,
  "nbformat_minor": 0,
  "metadata": {
    "colab": {
      "name": "직방 테스트 - model5 - k fold, subway, school feature added.ipynb",
      "version": "0.3.2",
      "provenance": [],
      "include_colab_link": true
    },
    "kernelspec": {
      "display_name": "brainwave_eeg",
      "language": "python",
      "name": "brainwave_eeg"
    },
    "accelerator": "GPU"
  },
  "cells": [
    {
      "cell_type": "markdown",
      "metadata": {
        "id": "view-in-github",
        "colab_type": "text"
      },
      "source": [
        "<a href=\"https://colab.research.google.com/github/gilgarad/mldl4automation/blob/master/jupyter_notebooks/%EC%A7%81%EB%B0%A9%20%ED%85%8C%EC%8A%A4%ED%8A%B8%20-%20model9%20-%20feature%20embedding.ipynb\" target=\"_parent\"><img src=\"https://colab.research.google.com/assets/colab-badge.svg\" alt=\"Open In Colab\"/></a>"
      ]
    },
    {
      "metadata": {
        "id": "LMryOG1lPvUj",
        "colab_type": "code",
        "outputId": "02f79837-8943-4c48-fa1e-3c92619a0d87",
        "colab": {
          "base_uri": "https://localhost:8080/",
          "height": 122
        }
      },
      "cell_type": "code",
      "source": [
        "from google.colab import drive\n",
        "drive.mount('/content/gdrive')"
      ],
      "execution_count": 1,
      "outputs": [
        {
          "output_type": "stream",
          "text": [
            "Go to this URL in a browser: https://accounts.google.com/o/oauth2/auth?client_id=947318989803-6bn6qk8qdgf4n4g3pfee6491hc0brc4i.apps.googleusercontent.com&redirect_uri=urn%3Aietf%3Awg%3Aoauth%3A2.0%3Aoob&scope=email%20https%3A%2F%2Fwww.googleapis.com%2Fauth%2Fdocs.test%20https%3A%2F%2Fwww.googleapis.com%2Fauth%2Fdrive%20https%3A%2F%2Fwww.googleapis.com%2Fauth%2Fdrive.photos.readonly%20https%3A%2F%2Fwww.googleapis.com%2Fauth%2Fpeopleapi.readonly&response_type=code\n",
            "\n",
            "Enter your authorization code:\n",
            "··········\n",
            "Mounted at /content/gdrive\n"
          ],
          "name": "stdout"
        }
      ]
    },
    {
      "metadata": {
        "id": "T7nrzQvmQVsi",
        "colab_type": "code",
        "outputId": "b5aacbde-9955-48cd-9ba9-832cf512851c",
        "colab": {
          "base_uri": "https://localhost:8080/",
          "height": 34
        }
      },
      "cell_type": "code",
      "source": [
        "cd /content/gdrive/My Drive/zigbang"
      ],
      "execution_count": 2,
      "outputs": [
        {
          "output_type": "stream",
          "text": [
            "/content/gdrive/My Drive/zigbang\n"
          ],
          "name": "stdout"
        }
      ]
    },
    {
      "metadata": {
        "id": "dtxSxApVPYq4",
        "colab_type": "code",
        "outputId": "b09180fe-fc4b-4fd3-82b0-15ca8756e2a4",
        "colab": {
          "base_uri": "https://localhost:8080/",
          "height": 34
        }
      },
      "cell_type": "code",
      "source": [
        "import pandas as pd\n",
        "from os.path import join\n",
        "from os import listdir\n",
        "from sklearn.model_selection import KFold\n",
        "\n",
        "import tensorflow as tf\n",
        "import keras.backend.tensorflow_backend as K\n",
        "import numpy as np\n",
        "import keras\n",
        "\n",
        "import gc"
      ],
      "execution_count": 3,
      "outputs": [
        {
          "output_type": "stream",
          "text": [
            "Using TensorFlow backend.\n"
          ],
          "name": "stderr"
        }
      ]
    },
    {
      "metadata": {
        "id": "GM3Rixr7PYrF",
        "colab_type": "code",
        "colab": {}
      },
      "cell_type": "code",
      "source": [
        "rpath = '/content/gdrive/My Drive/zigbang'"
      ],
      "execution_count": 0,
      "outputs": []
    },
    {
      "metadata": {
        "scrolled": true,
        "id": "40x9S_MqPYrJ",
        "colab_type": "code",
        "outputId": "b053904f-6840-4a7b-cfe9-17a55ebac795",
        "colab": {
          "base_uri": "https://localhost:8080/",
          "height": 159
        }
      },
      "cell_type": "code",
      "source": [
        "print('Schools')\n",
        "school_data = pd.read_csv(join(rpath, 'Schools.csv'))\n",
        "school_data[:3]"
      ],
      "execution_count": 5,
      "outputs": [
        {
          "output_type": "stream",
          "text": [
            "Schools\n"
          ],
          "name": "stdout"
        },
        {
          "output_type": "execute_result",
          "data": {
            "text/html": [
              "<div>\n",
              "<style scoped>\n",
              "    .dataframe tbody tr th:only-of-type {\n",
              "        vertical-align: middle;\n",
              "    }\n",
              "\n",
              "    .dataframe tbody tr th {\n",
              "        vertical-align: top;\n",
              "    }\n",
              "\n",
              "    .dataframe thead th {\n",
              "        text-align: right;\n",
              "    }\n",
              "</style>\n",
              "<table border=\"1\" class=\"dataframe\">\n",
              "  <thead>\n",
              "    <tr style=\"text-align: right;\">\n",
              "      <th></th>\n",
              "      <th>school_code</th>\n",
              "      <th>latitude</th>\n",
              "      <th>longitude</th>\n",
              "      <th>school_class</th>\n",
              "      <th>operation_type</th>\n",
              "      <th>highschool_type</th>\n",
              "      <th>gender</th>\n",
              "      <th>foundation_date</th>\n",
              "      <th>address_by_law</th>\n",
              "    </tr>\n",
              "  </thead>\n",
              "  <tbody>\n",
              "    <tr>\n",
              "      <th>0</th>\n",
              "      <td>S000003511</td>\n",
              "      <td>37.490880</td>\n",
              "      <td>127.015082</td>\n",
              "      <td>elementary</td>\n",
              "      <td>national</td>\n",
              "      <td>NaN</td>\n",
              "      <td>both</td>\n",
              "      <td>1953.1.31</td>\n",
              "      <td>1165010800</td>\n",
              "    </tr>\n",
              "    <tr>\n",
              "      <th>1</th>\n",
              "      <td>S000003563</td>\n",
              "      <td>37.577782</td>\n",
              "      <td>127.002915</td>\n",
              "      <td>elementary</td>\n",
              "      <td>national</td>\n",
              "      <td>NaN</td>\n",
              "      <td>both</td>\n",
              "      <td>1946.8.22</td>\n",
              "      <td>1111016800</td>\n",
              "    </tr>\n",
              "    <tr>\n",
              "      <th>2</th>\n",
              "      <td>S010000737</td>\n",
              "      <td>37.481366</td>\n",
              "      <td>127.059055</td>\n",
              "      <td>elementary</td>\n",
              "      <td>public</td>\n",
              "      <td>NaN</td>\n",
              "      <td>both</td>\n",
              "      <td>1982.9.20</td>\n",
              "      <td>1168010300</td>\n",
              "    </tr>\n",
              "  </tbody>\n",
              "</table>\n",
              "</div>"
            ],
            "text/plain": [
              "  school_code   latitude   longitude school_class operation_type  \\\n",
              "0  S000003511  37.490880  127.015082   elementary       national   \n",
              "1  S000003563  37.577782  127.002915   elementary       national   \n",
              "2  S010000737  37.481366  127.059055   elementary         public   \n",
              "\n",
              "  highschool_type gender foundation_date  address_by_law  \n",
              "0             NaN   both       1953.1.31      1165010800  \n",
              "1             NaN   both       1946.8.22      1111016800  \n",
              "2             NaN   both       1982.9.20      1168010300  "
            ]
          },
          "metadata": {
            "tags": []
          },
          "execution_count": 5
        }
      ]
    },
    {
      "metadata": {
        "scrolled": true,
        "id": "3TnAbrBDPYrP",
        "colab_type": "code",
        "outputId": "b01b3da3-f5f6-4ce2-a829-86c082de70d0",
        "colab": {
          "base_uri": "https://localhost:8080/",
          "height": 159
        }
      },
      "cell_type": "code",
      "source": [
        "print('Subways')\n",
        "subway_data = pd.read_csv(join(rpath, 'Subways.csv'))\n",
        "subway_data[:3]"
      ],
      "execution_count": 6,
      "outputs": [
        {
          "output_type": "stream",
          "text": [
            "Subways\n"
          ],
          "name": "stdout"
        },
        {
          "output_type": "execute_result",
          "data": {
            "text/html": [
              "<div>\n",
              "<style scoped>\n",
              "    .dataframe tbody tr th:only-of-type {\n",
              "        vertical-align: middle;\n",
              "    }\n",
              "\n",
              "    .dataframe tbody tr th {\n",
              "        vertical-align: top;\n",
              "    }\n",
              "\n",
              "    .dataframe thead th {\n",
              "        text-align: right;\n",
              "    }\n",
              "</style>\n",
              "<table border=\"1\" class=\"dataframe\">\n",
              "  <thead>\n",
              "    <tr style=\"text-align: right;\">\n",
              "      <th></th>\n",
              "      <th>station_id</th>\n",
              "      <th>latitude</th>\n",
              "      <th>longitude</th>\n",
              "      <th>subway_line</th>\n",
              "      <th>address_by_law</th>\n",
              "    </tr>\n",
              "  </thead>\n",
              "  <tbody>\n",
              "    <tr>\n",
              "      <th>0</th>\n",
              "      <td>1</td>\n",
              "      <td>37.555729</td>\n",
              "      <td>126.972145</td>\n",
              "      <td>1,4,KJ,AP</td>\n",
              "      <td>1.114012e+09</td>\n",
              "    </tr>\n",
              "    <tr>\n",
              "      <th>1</th>\n",
              "      <td>2</td>\n",
              "      <td>37.565624</td>\n",
              "      <td>126.976936</td>\n",
              "      <td>1,2</td>\n",
              "      <td>1.114017e+09</td>\n",
              "    </tr>\n",
              "    <tr>\n",
              "      <th>2</th>\n",
              "      <td>3</td>\n",
              "      <td>37.570169</td>\n",
              "      <td>126.983099</td>\n",
              "      <td>1</td>\n",
              "      <td>1.111013e+09</td>\n",
              "    </tr>\n",
              "  </tbody>\n",
              "</table>\n",
              "</div>"
            ],
            "text/plain": [
              "   station_id   latitude   longitude subway_line  address_by_law\n",
              "0           1  37.555729  126.972145   1,4,KJ,AP    1.114012e+09\n",
              "1           2  37.565624  126.976936         1,2    1.114017e+09\n",
              "2           3  37.570169  126.983099           1    1.111013e+09"
            ]
          },
          "metadata": {
            "tags": []
          },
          "execution_count": 6
        }
      ]
    },
    {
      "metadata": {
        "scrolled": true,
        "id": "PJDRyOWfPYrU",
        "colab_type": "code",
        "outputId": "e3f67307-ce5e-4d91-af60-133221e8dcd7",
        "colab": {
          "base_uri": "https://localhost:8080/",
          "height": 208
        }
      },
      "cell_type": "code",
      "source": [
        "print('Train')\n",
        "train_data = pd.read_csv(join(rpath, 'train.csv'))\n",
        "train_data[:3]"
      ],
      "execution_count": 7,
      "outputs": [
        {
          "output_type": "stream",
          "text": [
            "Train\n"
          ],
          "name": "stdout"
        },
        {
          "output_type": "execute_result",
          "data": {
            "text/html": [
              "<div>\n",
              "<style scoped>\n",
              "    .dataframe tbody tr th:only-of-type {\n",
              "        vertical-align: middle;\n",
              "    }\n",
              "\n",
              "    .dataframe tbody tr th {\n",
              "        vertical-align: top;\n",
              "    }\n",
              "\n",
              "    .dataframe thead th {\n",
              "        text-align: right;\n",
              "    }\n",
              "</style>\n",
              "<table border=\"1\" class=\"dataframe\">\n",
              "  <thead>\n",
              "    <tr style=\"text-align: right;\">\n",
              "      <th></th>\n",
              "      <th>key</th>\n",
              "      <th>apartment_id</th>\n",
              "      <th>city</th>\n",
              "      <th>transaction_year_month</th>\n",
              "      <th>transaction_date</th>\n",
              "      <th>year_of_completion</th>\n",
              "      <th>exclusive_use_area</th>\n",
              "      <th>floor</th>\n",
              "      <th>latitude</th>\n",
              "      <th>longitude</th>\n",
              "      <th>...</th>\n",
              "      <th>lowest_building_in_sites</th>\n",
              "      <th>heat_type</th>\n",
              "      <th>heat_fuel</th>\n",
              "      <th>room_id</th>\n",
              "      <th>supply_area</th>\n",
              "      <th>total_household_count_of_area_type</th>\n",
              "      <th>room_count</th>\n",
              "      <th>bathroom_count</th>\n",
              "      <th>front_door_structure</th>\n",
              "      <th>transaction_real_price</th>\n",
              "    </tr>\n",
              "  </thead>\n",
              "  <tbody>\n",
              "    <tr>\n",
              "      <th>0</th>\n",
              "      <td>0</td>\n",
              "      <td>5584</td>\n",
              "      <td>1</td>\n",
              "      <td>200601</td>\n",
              "      <td>11~20</td>\n",
              "      <td>1999</td>\n",
              "      <td>47.43</td>\n",
              "      <td>6</td>\n",
              "      <td>37.585965</td>\n",
              "      <td>127.000231</td>\n",
              "      <td>...</td>\n",
              "      <td>4.0</td>\n",
              "      <td>individual</td>\n",
              "      <td>gas</td>\n",
              "      <td>91120</td>\n",
              "      <td>65.63</td>\n",
              "      <td>46</td>\n",
              "      <td>1.0</td>\n",
              "      <td>1.0</td>\n",
              "      <td>corridor</td>\n",
              "      <td>215000000</td>\n",
              "    </tr>\n",
              "    <tr>\n",
              "      <th>1</th>\n",
              "      <td>1</td>\n",
              "      <td>5584</td>\n",
              "      <td>1</td>\n",
              "      <td>200601</td>\n",
              "      <td>11~20</td>\n",
              "      <td>1999</td>\n",
              "      <td>44.37</td>\n",
              "      <td>8</td>\n",
              "      <td>37.585965</td>\n",
              "      <td>127.000231</td>\n",
              "      <td>...</td>\n",
              "      <td>4.0</td>\n",
              "      <td>individual</td>\n",
              "      <td>gas</td>\n",
              "      <td>91119</td>\n",
              "      <td>61.39</td>\n",
              "      <td>10</td>\n",
              "      <td>2.0</td>\n",
              "      <td>1.0</td>\n",
              "      <td>corridor</td>\n",
              "      <td>200000000</td>\n",
              "    </tr>\n",
              "    <tr>\n",
              "      <th>2</th>\n",
              "      <td>2</td>\n",
              "      <td>5059</td>\n",
              "      <td>1</td>\n",
              "      <td>200601</td>\n",
              "      <td>11~20</td>\n",
              "      <td>1992</td>\n",
              "      <td>54.70</td>\n",
              "      <td>8</td>\n",
              "      <td>37.580511</td>\n",
              "      <td>127.014016</td>\n",
              "      <td>...</td>\n",
              "      <td>9.0</td>\n",
              "      <td>individual</td>\n",
              "      <td>gas</td>\n",
              "      <td>8430</td>\n",
              "      <td>72.36</td>\n",
              "      <td>201</td>\n",
              "      <td>2.0</td>\n",
              "      <td>1.0</td>\n",
              "      <td>corridor</td>\n",
              "      <td>168000000</td>\n",
              "    </tr>\n",
              "  </tbody>\n",
              "</table>\n",
              "<p>3 rows × 25 columns</p>\n",
              "</div>"
            ],
            "text/plain": [
              "   key  apartment_id  city  transaction_year_month transaction_date  \\\n",
              "0    0          5584     1                  200601            11~20   \n",
              "1    1          5584     1                  200601            11~20   \n",
              "2    2          5059     1                  200601            11~20   \n",
              "\n",
              "   year_of_completion  exclusive_use_area  floor   latitude   longitude  \\\n",
              "0                1999               47.43      6  37.585965  127.000231   \n",
              "1                1999               44.37      8  37.585965  127.000231   \n",
              "2                1992               54.70      8  37.580511  127.014016   \n",
              "\n",
              "            ...            lowest_building_in_sites   heat_type  heat_fuel  \\\n",
              "0           ...                                 4.0  individual        gas   \n",
              "1           ...                                 4.0  individual        gas   \n",
              "2           ...                                 9.0  individual        gas   \n",
              "\n",
              "   room_id  supply_area  total_household_count_of_area_type room_count  \\\n",
              "0    91120        65.63                                  46        1.0   \n",
              "1    91119        61.39                                  10        2.0   \n",
              "2     8430        72.36                                 201        2.0   \n",
              "\n",
              "  bathroom_count  front_door_structure  transaction_real_price  \n",
              "0            1.0              corridor               215000000  \n",
              "1            1.0              corridor               200000000  \n",
              "2            1.0              corridor               168000000  \n",
              "\n",
              "[3 rows x 25 columns]"
            ]
          },
          "metadata": {
            "tags": []
          },
          "execution_count": 7
        }
      ]
    },
    {
      "metadata": {
        "scrolled": true,
        "id": "5un1dl4qPYrZ",
        "colab_type": "code",
        "outputId": "138402c2-8ce7-4378-ab95-bea5261a2cae",
        "colab": {
          "base_uri": "https://localhost:8080/",
          "height": 208
        }
      },
      "cell_type": "code",
      "source": [
        "print('Test')\n",
        "test_data = pd.read_csv(join(rpath, 'test.csv'))\n",
        "test_data[:3]"
      ],
      "execution_count": 8,
      "outputs": [
        {
          "output_type": "stream",
          "text": [
            "Test\n"
          ],
          "name": "stdout"
        },
        {
          "output_type": "execute_result",
          "data": {
            "text/html": [
              "<div>\n",
              "<style scoped>\n",
              "    .dataframe tbody tr th:only-of-type {\n",
              "        vertical-align: middle;\n",
              "    }\n",
              "\n",
              "    .dataframe tbody tr th {\n",
              "        vertical-align: top;\n",
              "    }\n",
              "\n",
              "    .dataframe thead th {\n",
              "        text-align: right;\n",
              "    }\n",
              "</style>\n",
              "<table border=\"1\" class=\"dataframe\">\n",
              "  <thead>\n",
              "    <tr style=\"text-align: right;\">\n",
              "      <th></th>\n",
              "      <th>key</th>\n",
              "      <th>apartment_id</th>\n",
              "      <th>city</th>\n",
              "      <th>transaction_year_month</th>\n",
              "      <th>transaction_date</th>\n",
              "      <th>year_of_completion</th>\n",
              "      <th>exclusive_use_area</th>\n",
              "      <th>floor</th>\n",
              "      <th>latitude</th>\n",
              "      <th>longitude</th>\n",
              "      <th>...</th>\n",
              "      <th>lowest_building_in_sites</th>\n",
              "      <th>heat_type</th>\n",
              "      <th>heat_fuel</th>\n",
              "      <th>room_id</th>\n",
              "      <th>supply_area</th>\n",
              "      <th>total_household_count_of_area_type</th>\n",
              "      <th>room_count</th>\n",
              "      <th>bathroom_count</th>\n",
              "      <th>front_door_structure</th>\n",
              "      <th>transaction_real_price</th>\n",
              "    </tr>\n",
              "  </thead>\n",
              "  <tbody>\n",
              "    <tr>\n",
              "      <th>0</th>\n",
              "      <td>462533</td>\n",
              "      <td>3751</td>\n",
              "      <td>1</td>\n",
              "      <td>200912</td>\n",
              "      <td>21~31</td>\n",
              "      <td>1984</td>\n",
              "      <td>83.58</td>\n",
              "      <td>14</td>\n",
              "      <td>37.519926</td>\n",
              "      <td>127.052515</td>\n",
              "      <td>...</td>\n",
              "      <td>15.0</td>\n",
              "      <td>district</td>\n",
              "      <td>cogeneration</td>\n",
              "      <td>6648</td>\n",
              "      <td>107.19</td>\n",
              "      <td>2</td>\n",
              "      <td>3.0</td>\n",
              "      <td>1.0</td>\n",
              "      <td>corridor</td>\n",
              "      <td>0</td>\n",
              "    </tr>\n",
              "    <tr>\n",
              "      <th>1</th>\n",
              "      <td>764018</td>\n",
              "      <td>14029</td>\n",
              "      <td>1</td>\n",
              "      <td>201304</td>\n",
              "      <td>1~10</td>\n",
              "      <td>1968</td>\n",
              "      <td>107.17</td>\n",
              "      <td>10</td>\n",
              "      <td>37.572215</td>\n",
              "      <td>126.987643</td>\n",
              "      <td>...</td>\n",
              "      <td>8.0</td>\n",
              "      <td>individual</td>\n",
              "      <td>gas</td>\n",
              "      <td>46184</td>\n",
              "      <td>107.17</td>\n",
              "      <td>10</td>\n",
              "      <td>0.0</td>\n",
              "      <td>0.0</td>\n",
              "      <td>corridor</td>\n",
              "      <td>0</td>\n",
              "    </tr>\n",
              "    <tr>\n",
              "      <th>2</th>\n",
              "      <td>813528</td>\n",
              "      <td>12304</td>\n",
              "      <td>1</td>\n",
              "      <td>201309</td>\n",
              "      <td>21~30</td>\n",
              "      <td>1968</td>\n",
              "      <td>36.17</td>\n",
              "      <td>6</td>\n",
              "      <td>37.570067</td>\n",
              "      <td>127.010640</td>\n",
              "      <td>...</td>\n",
              "      <td>4.0</td>\n",
              "      <td>individual</td>\n",
              "      <td>gas</td>\n",
              "      <td>45540</td>\n",
              "      <td>39.66</td>\n",
              "      <td>58</td>\n",
              "      <td>2.0</td>\n",
              "      <td>1.0</td>\n",
              "      <td>stairway</td>\n",
              "      <td>0</td>\n",
              "    </tr>\n",
              "  </tbody>\n",
              "</table>\n",
              "<p>3 rows × 25 columns</p>\n",
              "</div>"
            ],
            "text/plain": [
              "      key  apartment_id  city  transaction_year_month transaction_date  \\\n",
              "0  462533          3751     1                  200912            21~31   \n",
              "1  764018         14029     1                  201304             1~10   \n",
              "2  813528         12304     1                  201309            21~30   \n",
              "\n",
              "   year_of_completion  exclusive_use_area  floor   latitude   longitude  \\\n",
              "0                1984               83.58     14  37.519926  127.052515   \n",
              "1                1968              107.17     10  37.572215  126.987643   \n",
              "2                1968               36.17      6  37.570067  127.010640   \n",
              "\n",
              "            ...            lowest_building_in_sites   heat_type     heat_fuel  \\\n",
              "0           ...                                15.0    district  cogeneration   \n",
              "1           ...                                 8.0  individual           gas   \n",
              "2           ...                                 4.0  individual           gas   \n",
              "\n",
              "   room_id  supply_area  total_household_count_of_area_type room_count  \\\n",
              "0     6648       107.19                                   2        3.0   \n",
              "1    46184       107.17                                  10        0.0   \n",
              "2    45540        39.66                                  58        2.0   \n",
              "\n",
              "  bathroom_count  front_door_structure  transaction_real_price  \n",
              "0            1.0              corridor                       0  \n",
              "1            0.0              corridor                       0  \n",
              "2            1.0              stairway                       0  \n",
              "\n",
              "[3 rows x 25 columns]"
            ]
          },
          "metadata": {
            "tags": []
          },
          "execution_count": 8
        }
      ]
    },
    {
      "metadata": {
        "id": "GGHg9oauPYro",
        "colab_type": "text"
      },
      "cell_type": "markdown",
      "source": [
        "# Initialization"
      ]
    },
    {
      "metadata": {
        "id": "azT8cJlGPYrp",
        "colab_type": "code",
        "colab": {}
      },
      "cell_type": "code",
      "source": [
        "config = tf.ConfigProto(allow_soft_placement=True)\n",
        "config.gpu_options.allow_growth = True\n",
        "sess = tf.Session(config=config)\n",
        "keras.backend.set_session(sess)"
      ],
      "execution_count": 0,
      "outputs": []
    },
    {
      "metadata": {
        "id": "j72wSGYnPYru",
        "colab_type": "text"
      },
      "cell_type": "markdown",
      "source": [
        "# 전처리 파트"
      ]
    },
    {
      "metadata": {
        "scrolled": true,
        "id": "q3R5VHGtPYri",
        "colab_type": "code",
        "outputId": "f0ad4bc8-bdda-4573-eb4c-2d11a3b5dd72",
        "colab": {
          "base_uri": "https://localhost:8080/",
          "height": 547
        }
      },
      "cell_type": "code",
      "source": [
        "print('Finding None Numeric components, and Nan components')\n",
        "non_numeric_components = list()\n",
        "nan_include_components = list()\n",
        "\n",
        "for k in train_data.keys():\n",
        "    if isinstance(train_data[k][0], float) or str(train_data[k][0]).isdigit():\n",
        "        isnumeric = True\n",
        "    else:\n",
        "        isnumeric = False\n",
        "        non_numeric_components.append(k)\n",
        "    include_nan = False\n",
        "    if isnumeric and len(np.where(np.isnan(train_data[k]))[0]) > 0:\n",
        "        nan_include_components.append(k)\n",
        "        include_nan = True\n",
        "        \n",
        "    \n",
        "    print(k, train_data[k][0], isnumeric, ' inculde NaN?', include_nan)\n",
        "        \n",
        "print('') \n",
        "print('Final Result')\n",
        "print('None numeric components', non_numeric_components)\n",
        "print('NAN include components', nan_include_components)"
      ],
      "execution_count": 10,
      "outputs": [
        {
          "output_type": "stream",
          "text": [
            "Finding None Numeric components, and Nan components\n",
            "('key', 0, True, ' inculde NaN?', False)\n",
            "('apartment_id', 5584, True, ' inculde NaN?', False)\n",
            "('city', 1, True, ' inculde NaN?', False)\n",
            "('transaction_year_month', 200601, True, ' inculde NaN?', False)\n",
            "('transaction_date', '11~20', False, ' inculde NaN?', False)\n",
            "('year_of_completion', 1999, True, ' inculde NaN?', False)\n",
            "('exclusive_use_area', 47.43, True, ' inculde NaN?', False)\n",
            "('floor', 6, True, ' inculde NaN?', False)\n",
            "('latitude', 37.58596505640614, True, ' inculde NaN?', False)\n",
            "('longitude', 127.00023096787315, True, ' inculde NaN?', False)\n",
            "('address_by_law', 1111017100, True, ' inculde NaN?', False)\n",
            "('total_parking_capacity_in_site', 163.0, True, ' inculde NaN?', True)\n",
            "('total_household_count_in_sites', 136, True, ' inculde NaN?', False)\n",
            "('apartment_building_count_in_sites', 1, True, ' inculde NaN?', False)\n",
            "('tallest_building_in_sites', 8.0, True, ' inculde NaN?', True)\n",
            "('lowest_building_in_sites', 4.0, True, ' inculde NaN?', True)\n",
            "('heat_type', 'individual', False, ' inculde NaN?', False)\n",
            "('heat_fuel', 'gas', False, ' inculde NaN?', False)\n",
            "('room_id', 91120, True, ' inculde NaN?', False)\n",
            "('supply_area', 65.63, True, ' inculde NaN?', False)\n",
            "('total_household_count_of_area_type', 46, True, ' inculde NaN?', False)\n",
            "('room_count', 1.0, True, ' inculde NaN?', True)\n",
            "('bathroom_count', 1.0, True, ' inculde NaN?', True)\n",
            "('front_door_structure', 'corridor', False, ' inculde NaN?', False)\n",
            "('transaction_real_price', 215000000, True, ' inculde NaN?', False)\n",
            "\n",
            "Final Result\n",
            "('None numeric components', ['transaction_date', 'heat_type', 'heat_fuel', 'front_door_structure'])\n",
            "('NAN include components', ['total_parking_capacity_in_site', 'tallest_building_in_sites', 'lowest_building_in_sites', 'room_count', 'bathroom_count'])\n"
          ],
          "name": "stdout"
        }
      ]
    },
    {
      "metadata": {
        "scrolled": true,
        "id": "6YM5yrStPYrv",
        "colab_type": "code",
        "outputId": "ff8057c0-64dc-428a-d9af-b07a261489e9",
        "colab": {
          "base_uri": "https://localhost:8080/",
          "height": 292
        }
      },
      "cell_type": "code",
      "source": [
        "print('전처리1: non numeric한 데이터를 변환하기 위한 딕셔너리 생성')\n",
        "non_numeric_changer_dict = dict()\n",
        "for k in non_numeric_components:\n",
        "    train_data[k].fillna('nan', inplace=True)\n",
        "    print(k)\n",
        "    print(np.unique(train_data[k], return_counts=True))\n",
        "    unique_list = np.unique(train_data[k], return_counts=True)[0]\n",
        "    \n",
        "    non_numeric_changer_dict2 = dict()\n",
        "    for idx, label in enumerate(unique_list):\n",
        "        non_numeric_changer_dict2[label] = idx\n",
        "#         print('%s: %i' % (label, idx))\n",
        "    non_numeric_changer_dict[k] = non_numeric_changer_dict2\n",
        "    print('')\n",
        "\n",
        "print(non_numeric_changer_dict)\n",
        "print('#####')\n",
        "    \n",
        "\n"
      ],
      "execution_count": 11,
      "outputs": [
        {
          "output_type": "stream",
          "text": [
            "전처리1: non numeric한 데이터를 변환하기 위한 딕셔너리 생성\n",
            "transaction_date\n",
            "(array(['11~20', '1~10', '21~28', '21~29', '21~30', '21~31'], dtype=object), array([538876, 513530,  31679,   9569, 171902, 335902]))\n",
            "\n",
            "heat_type\n",
            "(array(['central', 'district', 'individual', 'nan'], dtype=object), array([ 133749,  379822, 1085870,    2017]))\n",
            "\n",
            "heat_fuel\n",
            "(array(['-', 'cogeneration', 'gas', 'nan'], dtype=object), array([   8971,  378141, 1204679,    9667]))\n",
            "\n",
            "front_door_structure\n",
            "(array(['-', 'corridor', 'mixed', 'nan', 'stairway'], dtype=object), array([     21,  415209,   26085,   13892, 1146251]))\n",
            "\n",
            "{'heat_fuel': {'cogeneration': 1, 'gas': 2, 'nan': 3, '-': 0}, 'transaction_date': {'21~31': 5, '21~30': 4, '21~28': 2, '21~29': 3, '1~10': 1, '11~20': 0}, 'heat_type': {'nan': 3, 'individual': 2, 'central': 0, 'district': 1}, 'front_door_structure': {'mixed': 2, 'nan': 3, 'stairway': 4, '-': 0, 'corridor': 1}}\n",
            "#####\n"
          ],
          "name": "stdout"
        }
      ]
    },
    {
      "metadata": {
        "scrolled": true,
        "id": "bh84Ii6BPYrz",
        "colab_type": "code",
        "outputId": "52fda933-3d7a-44b0-cd70-c44ca63f36a8",
        "colab": {
          "base_uri": "https://localhost:8080/",
          "height": 510
        }
      },
      "cell_type": "code",
      "source": [
        "def replace_elements(data):\n",
        "    print('전처리2: non numeric을 numeric으로 변경')\n",
        "    for k, v in non_numeric_changer_dict.items():\n",
        "        for k2, v2 in v.items():\n",
        "            data[k][np.where(data[k]==k2)[0]] = v2\n",
        "\n",
        "    print('전처리2: Numeric column 이지만 NaN 값을 가지고 있으면 0으로 변경')\n",
        "    for k in nan_include_components:\n",
        "        data[k].fillna(0, inplace=True)\n",
        "        print(k)\n",
        "\n",
        "        print('')\n",
        "        \n",
        "replace_elements(train_data)\n",
        "replace_elements(test_data)"
      ],
      "execution_count": 12,
      "outputs": [
        {
          "output_type": "stream",
          "text": [
            "전처리2: non numeric을 numeric으로 변경\n"
          ],
          "name": "stdout"
        },
        {
          "output_type": "stream",
          "text": [
            "/usr/local/lib/python2.7/dist-packages/ipykernel_launcher.py:5: SettingWithCopyWarning: \n",
            "A value is trying to be set on a copy of a slice from a DataFrame\n",
            "\n",
            "See the caveats in the documentation: http://pandas.pydata.org/pandas-docs/stable/indexing.html#indexing-view-versus-copy\n",
            "  \"\"\"\n"
          ],
          "name": "stderr"
        },
        {
          "output_type": "stream",
          "text": [
            "전처리2: Numeric column 이지만 NaN 값을 가지고 있으면 0으로 변경\n",
            "total_parking_capacity_in_site\n",
            "\n",
            "tallest_building_in_sites\n",
            "\n",
            "lowest_building_in_sites\n",
            "\n",
            "room_count\n",
            "\n",
            "bathroom_count\n",
            "\n",
            "전처리2: non numeric을 numeric으로 변경\n",
            "전처리2: Numeric column 이지만 NaN 값을 가지고 있으면 0으로 변경\n",
            "total_parking_capacity_in_site\n",
            "\n",
            "tallest_building_in_sites\n",
            "\n",
            "lowest_building_in_sites\n",
            "\n",
            "room_count\n",
            "\n",
            "bathroom_count\n",
            "\n"
          ],
          "name": "stdout"
        }
      ]
    },
    {
      "metadata": {
        "id": "WlKpiPJ5l0rs",
        "colab_type": "code",
        "outputId": "c701f9d6-52f1-4ebb-9e01-d208fe8fb9bf",
        "colab": {
          "base_uri": "https://localhost:8080/",
          "height": 266
        }
      },
      "cell_type": "code",
      "source": [
        "print('#### 전처리3: add subway features to data')\n",
        "x = train_data.loc[:, train_data.columns.isin(['latitude', 'longitude'])].values\n",
        "y = subway_data.loc[:, subway_data.columns.isin(['latitude', 'longitude'])].values\n",
        "\n",
        "print('Calculate Distance')\n",
        "a = pairwise_distances(x, y)\n",
        "print(a.shape)\n",
        "\n",
        "print('Argsort to find the top three index of the closest')\n",
        "b = np.argsort(a, axis=1)\n",
        "b = b[:, :3]\n",
        "print(b.shape)\n",
        "\n",
        "print('Get three subways and its distances and subway ids') # subway line, address by law...!!\n",
        "subway_features = list()\n",
        "for row_idx, (i) in enumerate(b):\n",
        "#     print('distance', a[row_idx][i])\n",
        "#     print('station_id', subway_data.loc[i])\n",
        "    station_ids = subway_data[['station_id']].loc[i].values\n",
        "    \n",
        "    distances = a[row_idx][i]\n",
        "    distances = [[d] for d in distances]\n",
        "#     print(station_ids)\n",
        "#     print(distances)\n",
        "    \n",
        "    kk = np.concatenate([station_ids, distances], axis=1)\n",
        "#     print(kk.ravel())\n",
        "    subway_features.append(kk.ravel())\n",
        "#     break"
      ],
      "execution_count": 0,
      "outputs": [
        {
          "output_type": "stream",
          "text": [
            "#### 전처리3: add subway features to data\n",
            "Calculate Distance\n"
          ],
          "name": "stdout"
        },
        {
          "output_type": "error",
          "ename": "NameError",
          "evalue": "ignored",
          "traceback": [
            "\u001b[0;31m\u001b[0m",
            "\u001b[0;31mNameError\u001b[0mTraceback (most recent call last)",
            "\u001b[0;32m<ipython-input-17-4145d844ddaf>\u001b[0m in \u001b[0;36m<module>\u001b[0;34m()\u001b[0m\n\u001b[1;32m      4\u001b[0m \u001b[0;34m\u001b[0m\u001b[0m\n\u001b[1;32m      5\u001b[0m \u001b[0;32mprint\u001b[0m\u001b[0;34m(\u001b[0m\u001b[0;34m'Calculate Distance'\u001b[0m\u001b[0;34m)\u001b[0m\u001b[0;34m\u001b[0m\u001b[0m\n\u001b[0;32m----> 6\u001b[0;31m \u001b[0ma\u001b[0m \u001b[0;34m=\u001b[0m \u001b[0mpairwise_distances\u001b[0m\u001b[0;34m(\u001b[0m\u001b[0mx\u001b[0m\u001b[0;34m,\u001b[0m \u001b[0my\u001b[0m\u001b[0;34m)\u001b[0m\u001b[0;34m\u001b[0m\u001b[0m\n\u001b[0m\u001b[1;32m      7\u001b[0m \u001b[0;32mprint\u001b[0m\u001b[0;34m(\u001b[0m\u001b[0ma\u001b[0m\u001b[0;34m.\u001b[0m\u001b[0mshape\u001b[0m\u001b[0;34m)\u001b[0m\u001b[0;34m\u001b[0m\u001b[0m\n\u001b[1;32m      8\u001b[0m \u001b[0;34m\u001b[0m\u001b[0m\n",
            "\u001b[0;31mNameError\u001b[0m: name 'pairwise_distances' is not defined"
          ]
        }
      ]
    },
    {
      "metadata": {
        "id": "KXzUssKqnOHp",
        "colab_type": "code",
        "colab": {}
      },
      "cell_type": "code",
      "source": [
        "print('#### 전처리4: add school features to data')\n",
        "x = train_data.loc[:, train_data.columns.isin(['latitude', 'longitude'])].values\n",
        "y = school_data.loc[:, school_data.columns.isin(['latitude', 'longitude'])].values\n",
        "\n",
        "print('Calculate Distance')\n",
        "a = pairwise_distances(x, y)\n",
        "print(a.shape)\n",
        "\n",
        "print('Argsort to find the top three index of the closest')\n",
        "b = np.argsort(a, axis=1)\n",
        "b = b[:, :3]\n",
        "print(b.shape)\n",
        "\n",
        "print('Get three schools and its distances and school codes') # other features???\n",
        "school_features = list()\n",
        "for row_idx, (i) in enumerate(b):\n",
        "#     print('distance', a[row_idx][i])\n",
        "#     print('station_id', subway_data.loc[i])\n",
        "    school_codes = school_data[['school_code']].loc[i].values\n",
        "    \n",
        "    distances = a[row_idx][i]\n",
        "    distances = [[d] for d in distances]\n",
        "#     print(station_ids)\n",
        "#     print(distances)\n",
        "    \n",
        "    kk = np.concatenate([school_codes, distances], axis=1)\n",
        "#     print(kk.ravel())\n",
        "    school_features.append(kk.ravel())\n",
        "#     break\n",
        "      \n",
        "#print(school_features)"
      ],
      "execution_count": 0,
      "outputs": []
    },
    {
      "metadata": {
        "scrolled": true,
        "id": "BNYoWrz-PYr5",
        "colab_type": "code",
        "outputId": "e60a61be-c621-4fb1-f594-e3a713fa5fa1",
        "colab": {
          "base_uri": "https://localhost:8080/",
          "height": 51
        }
      },
      "cell_type": "code",
      "source": [
        "y_train = train_data['transaction_real_price'].values\n",
        "# x_train = train_data.loc[:, train_data.columns != 'transaction_real_price'].values\n",
        "x_train = train_data.loc[:, ~train_data.columns.isin(['transaction_real_price', 'key'])].values\n",
        "\n",
        "print(x_train.shape)\n",
        "print(y_train.shape)"
      ],
      "execution_count": 14,
      "outputs": [
        {
          "output_type": "stream",
          "text": [
            "(1601458, 23)\n",
            "(1601458,)\n"
          ],
          "name": "stdout"
        }
      ]
    },
    {
      "metadata": {
        "scrolled": true,
        "id": "_B92rj8WPYr-",
        "colab_type": "code",
        "outputId": "952e053c-2002-4531-df38-ee77e16e0e04",
        "colab": {
          "base_uri": "https://localhost:8080/",
          "height": 51
        }
      },
      "cell_type": "code",
      "source": [
        "y_test = test_data['transaction_real_price'].values\n",
        "x_test = test_data.loc[:, ~test_data.columns.isin(['transaction_real_price', 'key'])].values\n",
        "\n",
        "print(x_test.shape)\n",
        "print(y_test.shape)"
      ],
      "execution_count": 15,
      "outputs": [
        {
          "output_type": "stream",
          "text": [
            "(3918, 23)\n",
            "(3918,)\n"
          ],
          "name": "stdout"
        }
      ]
    },
    {
      "metadata": {
        "id": "kW71JivbPYsD",
        "colab_type": "text"
      },
      "cell_type": "markdown",
      "source": [
        "# Model Definition"
      ]
    },
    {
      "metadata": {
        "id": "BMXeCyW1PYsF",
        "colab_type": "code",
        "colab": {}
      },
      "cell_type": "code",
      "source": [
        "from keras.models import Model\n",
        "from keras.layers import Dense, Activation, BatchNormalization, Dropout, Input, Conv2D, Flatten, MaxPooling2D, AveragePooling2D, Add, Concatenate\n",
        "from keras import optimizers\n",
        "from sklearn.model_selection import train_test_split\n",
        "from keras.callbacks import CSVLogger\n",
        "from keras.models import model_from_json\n",
        "from keras.layers import Embedding, Dot, Lambda, Multiply, Reshape, RepeatVector"
      ],
      "execution_count": 0,
      "outputs": []
    },
    {
      "metadata": {
        "id": "sHv-ox_mPYss",
        "colab_type": "text"
      },
      "cell_type": "markdown",
      "source": [
        "# MLP Feature Attention"
      ]
    },
    {
      "metadata": {
        "id": "OrykDhMUPYsu",
        "colab_type": "code",
        "colab": {}
      },
      "cell_type": "code",
      "source": [
        "class MLPFeatureAttention:\n",
        "    def __init__(self, gpu=0):\n",
        "        with K.tf.device('/gpu:' + str(gpu)):\n",
        "            num_neurons = 1024\n",
        "            keep_dropout_rate = 0.7\n",
        "            \n",
        "            inputs = Input(shape=(23,))\n",
        "            pos = K.constant([[0, 1, 2, 3, 4, 5, 6, 7, 8, 9, 10, 11, 12, 13, 14, 15, 16, 17, 18, 19, 20, 21, 22]])\n",
        "            #pos = Reshape((1, 23))(pos)\n",
        "            embedding_pos = Embedding(23, 1)(pos)\n",
        "            embedding_pos = Flatten()(embedding_pos)\n",
        "            \n",
        "            #inputs2 = Multiply()([embedding_pos, inputs])\n",
        "            inputs2 = inputs * embedding_pos\n",
        "            \n",
        "            x = Dense(num_neurons, activation='relu')(inputs2)\n",
        "            x = Dropout(keep_dropout_rate)(x)\n",
        "            \n",
        "            m = Dense(1)(x)\n",
        "\n",
        "            model = Model(inputs=inputs, outputs=m)\n",
        "            \n",
        "        def root_mean_squared_error(y_true, y_pred):\n",
        "            return K.sqrt(K.mean(K.square(y_pred - y_true), axis=-1)) \n",
        "        \n",
        "        adam = optimizers.Adam(lr=0.0001)        \n",
        "        model.compile(loss='mean_squared_error', optimizer=adam, metrics=['accuracy'])\n",
        "        print(model.summary())\n",
        "        self.model = model\n",
        "        \n",
        "    def train(self, x_train, y_train, x_test, y_test, epochs=50, batch_size=128, verbose=1, csv_logger=None):\n",
        "        if csv_logger is None:\n",
        "            self.model.fit(x_train, y_train, validation_data=(x_test, y_test), epochs=epochs, batch_size=batch_size, verbose=verbose,\n",
        "                           shuffle=True)\n",
        "        else:\n",
        "            self.model.fit(x_train, y_train, validation_data=(x_test, y_test), epochs=epochs, batch_size=batch_size, verbose=verbose,\n",
        "                           shuffle=True, callbacks=[csv_logger])\n",
        "                           \n",
        "    def save(self, path, filename):\n",
        "        # serialize model to JSON\n",
        "        model_json = self.model.to_json()\n",
        "        with open(join(path, filename + \".json\" ), \"w\") as json_file:\n",
        "            json_file.write(model_json)\n",
        "        # serialize weights to HDF5\n",
        "        self.model.save_weights(join(path, filename + \".h5\"))\n",
        "        print(\"Saved model to disk\")\n",
        "        \n",
        "    def load(self, path, filename):\n",
        "        # load json and create model\n",
        "        json_file = open(join(path, filename + \".json\" ), 'r')\n",
        "        loaded_model_json = json_file.read()\n",
        "        json_file.close()\n",
        "        loaded_model = model_from_json(loaded_model_json)\n",
        "        # load weights into new model\n",
        "        loaded_model.load_weights(join(path, filename + \".h5\"))\n",
        "        self.model = loaded_model\n",
        "        self.model.compile(loss='mean_squared_error', optimizer=adam, metrics=['accuracy'])\n",
        "        print(\"Loaded model from disk\")\n",
        "        \n",
        "    def evaluate(self, x_test, y_test, batch_size=1):\n",
        "        score = self.model.evaluate(x_test, y_test, batch_size=batch_size, verbose=0)\n",
        "        print(\"Test MSE is \", score)\n",
        "        return score\n",
        "    \n",
        "    def predict(self, x_test, batch_size=1):\n",
        "        _y = self.model.predict(x=x_test, batch_size=batch_size)\n",
        "        return _y"
      ],
      "execution_count": 0,
      "outputs": []
    },
    {
      "metadata": {
        "scrolled": true,
        "id": "xETr82eHPYs1",
        "colab_type": "code",
        "outputId": "3ec5ae3b-17fc-4214-a802-d26358482833",
        "colab": {
          "base_uri": "https://localhost:8080/",
          "height": 1374
        }
      },
      "cell_type": "code",
      "source": [
        "# _x_train, _x_test, _y_train, _y_test = train_test_split(x_train, y_train, shuffle=True, test_size=0.1)\n",
        "batch_size = 1024\n",
        "epochs = 20\n",
        "\n",
        "kf = KFold(n_splits=4)\n",
        "kf.get_n_splits(x_train)\n",
        "\n",
        "all_models = list()\n",
        "\n",
        "csv_logger = CSVLogger(join(rpath, 'log.csv'), append=True, separator=';')\n",
        "\n",
        "for idx, (train_index, test_index) in enumerate(kf.split(x_train)):\n",
        "    print('########################################')\n",
        "    print('K Fold:', idx)\n",
        "    print('########################################')\n",
        "    mlp_feature_attention = MLPFeatureAttention(gpu=1)\n",
        "\n",
        "    _x_train = x_train[train_index]\n",
        "    _y_train = y_train[train_index]\n",
        "    _x_test = x_train[test_index]\n",
        "    _y_test = y_train[test_index]\n",
        "    \n",
        "    \n",
        "    mlp_feature_attention.train(x_train=_x_train, y_train=_y_train, x_test=_x_test, y_test=_y_test, epochs=epochs, batch_size=batch_size, verbose=1,\n",
        "             csv_logger=csv_logger)\n",
        "    all_models.append(mlp_feature_attention)\n",
        "    mlp_feature_attention.save(path=join(rpath, 'models'), filename=\"model_\" + str(idx))\n",
        "    \n",
        "    del _x_train, _y_train, _x_test, _y_test\n",
        "    gc.collect()\n",
        "    \n",
        "#     all_scores.append(cnn.evaluate(x_test=_x_test, y_test=_y_test, batch_size=batch_size))"
      ],
      "execution_count": 135,
      "outputs": [
        {
          "output_type": "stream",
          "text": [
            "########################################\n",
            "('K Fold:', 0)\n",
            "########################################\n"
          ],
          "name": "stdout"
        },
        {
          "output_type": "error",
          "ename": "AttributeError",
          "evalue": "ignored",
          "traceback": [
            "\u001b[0;31m\u001b[0m",
            "\u001b[0;31mAttributeError\u001b[0mTraceback (most recent call last)",
            "\u001b[0;32m<ipython-input-135-471987f2643b>\u001b[0m in \u001b[0;36m<module>\u001b[0;34m()\u001b[0m\n\u001b[1;32m     13\u001b[0m     \u001b[0;32mprint\u001b[0m\u001b[0;34m(\u001b[0m\u001b[0;34m'K Fold:'\u001b[0m\u001b[0;34m,\u001b[0m \u001b[0midx\u001b[0m\u001b[0;34m)\u001b[0m\u001b[0;34m\u001b[0m\u001b[0m\n\u001b[1;32m     14\u001b[0m     \u001b[0;32mprint\u001b[0m\u001b[0;34m(\u001b[0m\u001b[0;34m'########################################'\u001b[0m\u001b[0;34m)\u001b[0m\u001b[0;34m\u001b[0m\u001b[0m\n\u001b[0;32m---> 15\u001b[0;31m     \u001b[0mmlp_feature_attention\u001b[0m \u001b[0;34m=\u001b[0m \u001b[0mMLPFeatureAttention\u001b[0m\u001b[0;34m(\u001b[0m\u001b[0mgpu\u001b[0m\u001b[0;34m=\u001b[0m\u001b[0;36m1\u001b[0m\u001b[0;34m)\u001b[0m\u001b[0;34m\u001b[0m\u001b[0m\n\u001b[0m\u001b[1;32m     16\u001b[0m \u001b[0;34m\u001b[0m\u001b[0m\n\u001b[1;32m     17\u001b[0m     \u001b[0m_x_train\u001b[0m \u001b[0;34m=\u001b[0m \u001b[0mx_train\u001b[0m\u001b[0;34m[\u001b[0m\u001b[0mtrain_index\u001b[0m\u001b[0;34m]\u001b[0m\u001b[0;34m\u001b[0m\u001b[0m\n",
            "\u001b[0;32m<ipython-input-134-aadb2b8c21d7>\u001b[0m in \u001b[0;36m__init__\u001b[0;34m(self, gpu)\u001b[0m\n\u001b[1;32m     19\u001b[0m             \u001b[0mm\u001b[0m \u001b[0;34m=\u001b[0m \u001b[0mDense\u001b[0m\u001b[0;34m(\u001b[0m\u001b[0;36m1\u001b[0m\u001b[0;34m)\u001b[0m\u001b[0;34m(\u001b[0m\u001b[0mx\u001b[0m\u001b[0;34m)\u001b[0m\u001b[0;34m\u001b[0m\u001b[0m\n\u001b[1;32m     20\u001b[0m \u001b[0;34m\u001b[0m\u001b[0m\n\u001b[0;32m---> 21\u001b[0;31m             \u001b[0mmodel\u001b[0m \u001b[0;34m=\u001b[0m \u001b[0mModel\u001b[0m\u001b[0;34m(\u001b[0m\u001b[0minputs\u001b[0m\u001b[0;34m=\u001b[0m\u001b[0minputs\u001b[0m\u001b[0;34m,\u001b[0m \u001b[0moutputs\u001b[0m\u001b[0;34m=\u001b[0m\u001b[0mm\u001b[0m\u001b[0;34m)\u001b[0m\u001b[0;34m\u001b[0m\u001b[0m\n\u001b[0m\u001b[1;32m     22\u001b[0m \u001b[0;34m\u001b[0m\u001b[0m\n\u001b[1;32m     23\u001b[0m         \u001b[0;32mdef\u001b[0m \u001b[0mroot_mean_squared_error\u001b[0m\u001b[0;34m(\u001b[0m\u001b[0my_true\u001b[0m\u001b[0;34m,\u001b[0m \u001b[0my_pred\u001b[0m\u001b[0;34m)\u001b[0m\u001b[0;34m:\u001b[0m\u001b[0;34m\u001b[0m\u001b[0m\n",
            "\u001b[0;32m/usr/local/lib/python2.7/dist-packages/keras/legacy/interfaces.pyc\u001b[0m in \u001b[0;36mwrapper\u001b[0;34m(*args, **kwargs)\u001b[0m\n\u001b[1;32m     89\u001b[0m                 warnings.warn('Update your `' + object_name + '` call to the ' +\n\u001b[1;32m     90\u001b[0m                               'Keras 2 API: ' + signature, stacklevel=2)\n\u001b[0;32m---> 91\u001b[0;31m             \u001b[0;32mreturn\u001b[0m \u001b[0mfunc\u001b[0m\u001b[0;34m(\u001b[0m\u001b[0;34m*\u001b[0m\u001b[0margs\u001b[0m\u001b[0;34m,\u001b[0m \u001b[0;34m**\u001b[0m\u001b[0mkwargs\u001b[0m\u001b[0;34m)\u001b[0m\u001b[0;34m\u001b[0m\u001b[0m\n\u001b[0m\u001b[1;32m     92\u001b[0m         \u001b[0mwrapper\u001b[0m\u001b[0;34m.\u001b[0m\u001b[0m_original_function\u001b[0m \u001b[0;34m=\u001b[0m \u001b[0mfunc\u001b[0m\u001b[0;34m\u001b[0m\u001b[0m\n\u001b[1;32m     93\u001b[0m         \u001b[0;32mreturn\u001b[0m \u001b[0mwrapper\u001b[0m\u001b[0;34m\u001b[0m\u001b[0m\n",
            "\u001b[0;32m/usr/local/lib/python2.7/dist-packages/keras/engine/network.pyc\u001b[0m in \u001b[0;36m__init__\u001b[0;34m(self, *args, **kwargs)\u001b[0m\n\u001b[1;32m     91\u001b[0m                 'inputs' in kwargs and 'outputs' in kwargs):\n\u001b[1;32m     92\u001b[0m             \u001b[0;31m# Graph network\u001b[0m\u001b[0;34m\u001b[0m\u001b[0;34m\u001b[0m\u001b[0m\n\u001b[0;32m---> 93\u001b[0;31m             \u001b[0mself\u001b[0m\u001b[0;34m.\u001b[0m\u001b[0m_init_graph_network\u001b[0m\u001b[0;34m(\u001b[0m\u001b[0;34m*\u001b[0m\u001b[0margs\u001b[0m\u001b[0;34m,\u001b[0m \u001b[0;34m**\u001b[0m\u001b[0mkwargs\u001b[0m\u001b[0;34m)\u001b[0m\u001b[0;34m\u001b[0m\u001b[0m\n\u001b[0m\u001b[1;32m     94\u001b[0m         \u001b[0;32melse\u001b[0m\u001b[0;34m:\u001b[0m\u001b[0;34m\u001b[0m\u001b[0m\n\u001b[1;32m     95\u001b[0m             \u001b[0;31m# Subclassed network\u001b[0m\u001b[0;34m\u001b[0m\u001b[0;34m\u001b[0m\u001b[0m\n",
            "\u001b[0;32m/usr/local/lib/python2.7/dist-packages/keras/engine/network.pyc\u001b[0m in \u001b[0;36m_init_graph_network\u001b[0;34m(self, inputs, outputs, name)\u001b[0m\n\u001b[1;32m    229\u001b[0m         \u001b[0;31m# Keep track of the network's nodes and layers.\u001b[0m\u001b[0;34m\u001b[0m\u001b[0;34m\u001b[0m\u001b[0m\n\u001b[1;32m    230\u001b[0m         nodes, nodes_by_depth, layers, layers_by_depth = _map_graph_network(\n\u001b[0;32m--> 231\u001b[0;31m             self.inputs, self.outputs)\n\u001b[0m\u001b[1;32m    232\u001b[0m         \u001b[0mself\u001b[0m\u001b[0;34m.\u001b[0m\u001b[0m_network_nodes\u001b[0m \u001b[0;34m=\u001b[0m \u001b[0mnodes\u001b[0m\u001b[0;34m\u001b[0m\u001b[0m\n\u001b[1;32m    233\u001b[0m         \u001b[0mself\u001b[0m\u001b[0;34m.\u001b[0m\u001b[0m_nodes_by_depth\u001b[0m \u001b[0;34m=\u001b[0m \u001b[0mnodes_by_depth\u001b[0m\u001b[0;34m\u001b[0m\u001b[0m\n",
            "\u001b[0;32m/usr/local/lib/python2.7/dist-packages/keras/engine/network.pyc\u001b[0m in \u001b[0;36m_map_graph_network\u001b[0;34m(inputs, outputs)\u001b[0m\n\u001b[1;32m   1364\u001b[0m                   \u001b[0mlayer\u001b[0m\u001b[0;34m=\u001b[0m\u001b[0mlayer\u001b[0m\u001b[0;34m,\u001b[0m\u001b[0;34m\u001b[0m\u001b[0m\n\u001b[1;32m   1365\u001b[0m                   \u001b[0mnode_index\u001b[0m\u001b[0;34m=\u001b[0m\u001b[0mnode_index\u001b[0m\u001b[0;34m,\u001b[0m\u001b[0;34m\u001b[0m\u001b[0m\n\u001b[0;32m-> 1366\u001b[0;31m                   tensor_index=tensor_index)\n\u001b[0m\u001b[1;32m   1367\u001b[0m \u001b[0;34m\u001b[0m\u001b[0m\n\u001b[1;32m   1368\u001b[0m     \u001b[0;32mfor\u001b[0m \u001b[0mnode\u001b[0m \u001b[0;32min\u001b[0m \u001b[0mreversed\u001b[0m\u001b[0;34m(\u001b[0m\u001b[0mnodes_in_decreasing_depth\u001b[0m\u001b[0;34m)\u001b[0m\u001b[0;34m:\u001b[0m\u001b[0;34m\u001b[0m\u001b[0m\n",
            "\u001b[0;32m/usr/local/lib/python2.7/dist-packages/keras/engine/network.pyc\u001b[0m in \u001b[0;36mbuild_map\u001b[0;34m(tensor, finished_nodes, nodes_in_progress, layer, node_index, tensor_index)\u001b[0m\n\u001b[1;32m   1351\u001b[0m             \u001b[0mtensor_index\u001b[0m \u001b[0;34m=\u001b[0m \u001b[0mnode\u001b[0m\u001b[0;34m.\u001b[0m\u001b[0mtensor_indices\u001b[0m\u001b[0;34m[\u001b[0m\u001b[0mi\u001b[0m\u001b[0;34m]\u001b[0m\u001b[0;34m\u001b[0m\u001b[0m\n\u001b[1;32m   1352\u001b[0m             build_map(x, finished_nodes, nodes_in_progress, layer,\n\u001b[0;32m-> 1353\u001b[0;31m                       node_index, tensor_index)\n\u001b[0m\u001b[1;32m   1354\u001b[0m \u001b[0;34m\u001b[0m\u001b[0m\n\u001b[1;32m   1355\u001b[0m         \u001b[0mfinished_nodes\u001b[0m\u001b[0;34m.\u001b[0m\u001b[0madd\u001b[0m\u001b[0;34m(\u001b[0m\u001b[0mnode\u001b[0m\u001b[0;34m)\u001b[0m\u001b[0;34m\u001b[0m\u001b[0m\n",
            "\u001b[0;32m/usr/local/lib/python2.7/dist-packages/keras/engine/network.pyc\u001b[0m in \u001b[0;36mbuild_map\u001b[0;34m(tensor, finished_nodes, nodes_in_progress, layer, node_index, tensor_index)\u001b[0m\n\u001b[1;32m   1351\u001b[0m             \u001b[0mtensor_index\u001b[0m \u001b[0;34m=\u001b[0m \u001b[0mnode\u001b[0m\u001b[0;34m.\u001b[0m\u001b[0mtensor_indices\u001b[0m\u001b[0;34m[\u001b[0m\u001b[0mi\u001b[0m\u001b[0;34m]\u001b[0m\u001b[0;34m\u001b[0m\u001b[0m\n\u001b[1;32m   1352\u001b[0m             build_map(x, finished_nodes, nodes_in_progress, layer,\n\u001b[0;32m-> 1353\u001b[0;31m                       node_index, tensor_index)\n\u001b[0m\u001b[1;32m   1354\u001b[0m \u001b[0;34m\u001b[0m\u001b[0m\n\u001b[1;32m   1355\u001b[0m         \u001b[0mfinished_nodes\u001b[0m\u001b[0;34m.\u001b[0m\u001b[0madd\u001b[0m\u001b[0;34m(\u001b[0m\u001b[0mnode\u001b[0m\u001b[0;34m)\u001b[0m\u001b[0;34m\u001b[0m\u001b[0m\n",
            "\u001b[0;32m/usr/local/lib/python2.7/dist-packages/keras/engine/network.pyc\u001b[0m in \u001b[0;36mbuild_map\u001b[0;34m(tensor, finished_nodes, nodes_in_progress, layer, node_index, tensor_index)\u001b[0m\n\u001b[1;32m   1351\u001b[0m             \u001b[0mtensor_index\u001b[0m \u001b[0;34m=\u001b[0m \u001b[0mnode\u001b[0m\u001b[0;34m.\u001b[0m\u001b[0mtensor_indices\u001b[0m\u001b[0;34m[\u001b[0m\u001b[0mi\u001b[0m\u001b[0;34m]\u001b[0m\u001b[0;34m\u001b[0m\u001b[0m\n\u001b[1;32m   1352\u001b[0m             build_map(x, finished_nodes, nodes_in_progress, layer,\n\u001b[0;32m-> 1353\u001b[0;31m                       node_index, tensor_index)\n\u001b[0m\u001b[1;32m   1354\u001b[0m \u001b[0;34m\u001b[0m\u001b[0m\n\u001b[1;32m   1355\u001b[0m         \u001b[0mfinished_nodes\u001b[0m\u001b[0;34m.\u001b[0m\u001b[0madd\u001b[0m\u001b[0;34m(\u001b[0m\u001b[0mnode\u001b[0m\u001b[0;34m)\u001b[0m\u001b[0;34m\u001b[0m\u001b[0m\n",
            "\u001b[0;32m/usr/local/lib/python2.7/dist-packages/keras/engine/network.pyc\u001b[0m in \u001b[0;36mbuild_map\u001b[0;34m(tensor, finished_nodes, nodes_in_progress, layer, node_index, tensor_index)\u001b[0m\n\u001b[1;32m   1323\u001b[0m             \u001b[0mValueError\u001b[0m\u001b[0;34m:\u001b[0m \u001b[0;32mif\u001b[0m \u001b[0ma\u001b[0m \u001b[0mcycle\u001b[0m \u001b[0;32mis\u001b[0m \u001b[0mdetected\u001b[0m\u001b[0;34m.\u001b[0m\u001b[0;34m\u001b[0m\u001b[0m\n\u001b[1;32m   1324\u001b[0m         \"\"\"\n\u001b[0;32m-> 1325\u001b[0;31m         \u001b[0mnode\u001b[0m \u001b[0;34m=\u001b[0m \u001b[0mlayer\u001b[0m\u001b[0;34m.\u001b[0m\u001b[0m_inbound_nodes\u001b[0m\u001b[0;34m[\u001b[0m\u001b[0mnode_index\u001b[0m\u001b[0;34m]\u001b[0m\u001b[0;34m\u001b[0m\u001b[0m\n\u001b[0m\u001b[1;32m   1326\u001b[0m \u001b[0;34m\u001b[0m\u001b[0m\n\u001b[1;32m   1327\u001b[0m         \u001b[0;31m# Prevent cycles.\u001b[0m\u001b[0;34m\u001b[0m\u001b[0;34m\u001b[0m\u001b[0m\n",
            "\u001b[0;31mAttributeError\u001b[0m: 'NoneType' object has no attribute '_inbound_nodes'"
          ]
        }
      ]
    },
    {
      "metadata": {
        "id": "t0U5XUcBphJB",
        "colab_type": "code",
        "colab": {}
      },
      "cell_type": "code",
      "source": [
        "print(len(all_models))"
      ],
      "execution_count": 0,
      "outputs": []
    },
    {
      "metadata": {
        "id": "I6Dso5PUPYs6",
        "colab_type": "code",
        "colab": {}
      },
      "cell_type": "code",
      "source": [
        "_x_test = x_test.reshape(x_test.shape[0], 1, x_test.shape[1], 1)\n",
        "cnn_predicted_all = list()\n",
        "for cnn in all_models:\n",
        "    cnn_predicted = cnn.predict(x_test=_x_test, batch_size=batch_size)\n",
        "    cnn_predicted_all.append(cnn_predicted)\n",
        "cnn_predicted_all = np.array(cnn_predicted_all)\n",
        "cnn_predicted_final = np.mean(cnn_predicted_all, axis=0)"
      ],
      "execution_count": 0,
      "outputs": []
    },
    {
      "metadata": {
        "id": "kfyUaQx4PYs9",
        "colab_type": "code",
        "colab": {}
      },
      "cell_type": "code",
      "source": [
        "# print(a[0][0])\n",
        "# print(np.mean([23720146, 31678532, 24474986, 26008190, 25262484, 21582632, 28799930, 29443314, 27432226, 36861810], axis=0))\n",
        "# print(np.median([23720146, 31678532, 24474986, 26008190, 25262484, 21582632, 28799930, 29443314, 27432226, 36861810], axis=0))"
      ],
      "execution_count": 0,
      "outputs": []
    },
    {
      "metadata": {
        "id": "MNcAveStPYtC",
        "colab_type": "code",
        "colab": {}
      },
      "cell_type": "code",
      "source": [
        "sub = pd.DataFrame()\n",
        "sub['key'] = test_data['key']\n",
        "sub['transaction_real_price'] = cnn_predicted_final\n",
        "sub.to_csv(join(rpath, 'submission_model5-3_e20_cnnmlp.csv'),index=False)"
      ],
      "execution_count": 0,
      "outputs": []
    },
    {
      "metadata": {
        "id": "d14MvEBRPYtG",
        "colab_type": "code",
        "colab": {}
      },
      "cell_type": "code",
      "source": [
        ""
      ],
      "execution_count": 0,
      "outputs": []
    }
  ]
}
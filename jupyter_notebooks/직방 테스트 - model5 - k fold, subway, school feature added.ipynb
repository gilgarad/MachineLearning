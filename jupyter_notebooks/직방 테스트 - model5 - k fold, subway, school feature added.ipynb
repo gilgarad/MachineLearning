{
  "nbformat": 4,
  "nbformat_minor": 0,
  "metadata": {
    "colab": {
      "name": "직방 테스트 - model5 - k fold, subway, school feature added.ipynb",
      "version": "0.3.2",
      "provenance": [],
      "include_colab_link": true
    },
    "kernelspec": {
      "display_name": "brainwave_eeg",
      "language": "python",
      "name": "brainwave_eeg"
    }
  },
  "cells": [
    {
      "cell_type": "markdown",
      "metadata": {
        "id": "view-in-github",
        "colab_type": "text"
      },
      "source": [
        "<a href=\"https://colab.research.google.com/github/gilgarad/mldl4automation/blob/master/jupyter_notebooks/%EC%A7%81%EB%B0%A9%20%ED%85%8C%EC%8A%A4%ED%8A%B8%20-%20model5%20-%20k%20fold%2C%20subway%2C%20school%20feature%20added.ipynb\" target=\"_parent\"><img src=\"https://colab.research.google.com/assets/colab-badge.svg\" alt=\"Open In Colab\"/></a>"
      ]
    },
    {
      "metadata": {
        "id": "LMryOG1lPvUj",
        "colab_type": "code",
        "colab": {
          "base_uri": "https://localhost:8080/",
          "height": 127
        },
        "outputId": "61d97035-1053-46be-c5b2-02c7e93b043e"
      },
      "cell_type": "code",
      "source": [
        "from google.colab import drive\n",
        "drive.mount('/content/gdrive')"
      ],
      "execution_count": 1,
      "outputs": [
        {
          "output_type": "stream",
          "text": [
            "Go to this URL in a browser: https://accounts.google.com/o/oauth2/auth?client_id=947318989803-6bn6qk8qdgf4n4g3pfee6491hc0brc4i.apps.googleusercontent.com&redirect_uri=urn%3Aietf%3Awg%3Aoauth%3A2.0%3Aoob&scope=email%20https%3A%2F%2Fwww.googleapis.com%2Fauth%2Fdocs.test%20https%3A%2F%2Fwww.googleapis.com%2Fauth%2Fdrive%20https%3A%2F%2Fwww.googleapis.com%2Fauth%2Fdrive.photos.readonly%20https%3A%2F%2Fwww.googleapis.com%2Fauth%2Fpeopleapi.readonly&response_type=code\n",
            "\n",
            "Enter your authorization code:\n",
            "··········\n",
            "Mounted at /content/gdrive\n"
          ],
          "name": "stdout"
        }
      ]
    },
    {
      "metadata": {
        "id": "T7nrzQvmQVsi",
        "colab_type": "code",
        "colab": {
          "base_uri": "https://localhost:8080/",
          "height": 35
        },
        "outputId": "2b5a8ec2-ce73-4a30-db42-bf89c8cbfa89"
      },
      "cell_type": "code",
      "source": [
        "cd /content/gdrive/My Drive/zigbang"
      ],
      "execution_count": 2,
      "outputs": [
        {
          "output_type": "stream",
          "text": [
            "/content/gdrive/My Drive/zigbang\n"
          ],
          "name": "stdout"
        }
      ]
    },
    {
      "metadata": {
        "id": "dtxSxApVPYq4",
        "colab_type": "code",
        "colab": {
          "base_uri": "https://localhost:8080/",
          "height": 35
        },
        "outputId": "d608540b-2066-4d2c-be1f-cca6fe5081a9"
      },
      "cell_type": "code",
      "source": [
        "import pandas as pd\n",
        "from os.path import join\n",
        "from os import listdir\n",
        "from sklearn.model_selection import KFold\n",
        "\n",
        "import tensorflow as tf\n",
        "import keras.backend.tensorflow_backend as K\n",
        "import numpy as np\n",
        "import keras"
      ],
      "execution_count": 3,
      "outputs": [
        {
          "output_type": "stream",
          "text": [
            "Using TensorFlow backend.\n"
          ],
          "name": "stderr"
        }
      ]
    },
    {
      "metadata": {
        "id": "GM3Rixr7PYrF",
        "colab_type": "code",
        "colab": {}
      },
      "cell_type": "code",
      "source": [
        "rpath = '/content/gdrive/My Drive/zigbang'"
      ],
      "execution_count": 0,
      "outputs": []
    },
    {
      "metadata": {
        "scrolled": true,
        "id": "40x9S_MqPYrJ",
        "colab_type": "code",
        "colab": {
          "base_uri": "https://localhost:8080/",
          "height": 160
        },
        "outputId": "1e168b55-2ce6-4409-b8be-738d741b3491"
      },
      "cell_type": "code",
      "source": [
        "print('Schools')\n",
        "school_data = pd.read_csv(join(rpath, 'Schools.csv'))\n",
        "school_data[:3]"
      ],
      "execution_count": 19,
      "outputs": [
        {
          "output_type": "stream",
          "text": [
            "Schools\n"
          ],
          "name": "stdout"
        },
        {
          "output_type": "execute_result",
          "data": {
            "text/html": [
              "<div>\n",
              "<style scoped>\n",
              "    .dataframe tbody tr th:only-of-type {\n",
              "        vertical-align: middle;\n",
              "    }\n",
              "\n",
              "    .dataframe tbody tr th {\n",
              "        vertical-align: top;\n",
              "    }\n",
              "\n",
              "    .dataframe thead th {\n",
              "        text-align: right;\n",
              "    }\n",
              "</style>\n",
              "<table border=\"1\" class=\"dataframe\">\n",
              "  <thead>\n",
              "    <tr style=\"text-align: right;\">\n",
              "      <th></th>\n",
              "      <th>school_code</th>\n",
              "      <th>latitude</th>\n",
              "      <th>longitude</th>\n",
              "      <th>school_class</th>\n",
              "      <th>operation_type</th>\n",
              "      <th>highschool_type</th>\n",
              "      <th>gender</th>\n",
              "      <th>foundation_date</th>\n",
              "      <th>address_by_law</th>\n",
              "    </tr>\n",
              "  </thead>\n",
              "  <tbody>\n",
              "    <tr>\n",
              "      <th>0</th>\n",
              "      <td>S000003511</td>\n",
              "      <td>37.490880</td>\n",
              "      <td>127.015082</td>\n",
              "      <td>elementary</td>\n",
              "      <td>national</td>\n",
              "      <td>NaN</td>\n",
              "      <td>both</td>\n",
              "      <td>1953.1.31</td>\n",
              "      <td>1165010800</td>\n",
              "    </tr>\n",
              "    <tr>\n",
              "      <th>1</th>\n",
              "      <td>S000003563</td>\n",
              "      <td>37.577782</td>\n",
              "      <td>127.002915</td>\n",
              "      <td>elementary</td>\n",
              "      <td>national</td>\n",
              "      <td>NaN</td>\n",
              "      <td>both</td>\n",
              "      <td>1946.8.22</td>\n",
              "      <td>1111016800</td>\n",
              "    </tr>\n",
              "    <tr>\n",
              "      <th>2</th>\n",
              "      <td>S010000737</td>\n",
              "      <td>37.481366</td>\n",
              "      <td>127.059055</td>\n",
              "      <td>elementary</td>\n",
              "      <td>public</td>\n",
              "      <td>NaN</td>\n",
              "      <td>both</td>\n",
              "      <td>1982.9.20</td>\n",
              "      <td>1168010300</td>\n",
              "    </tr>\n",
              "  </tbody>\n",
              "</table>\n",
              "</div>"
            ],
            "text/plain": [
              "  school_code   latitude   longitude school_class operation_type  \\\n",
              "0  S000003511  37.490880  127.015082   elementary       national   \n",
              "1  S000003563  37.577782  127.002915   elementary       national   \n",
              "2  S010000737  37.481366  127.059055   elementary         public   \n",
              "\n",
              "  highschool_type gender foundation_date  address_by_law  \n",
              "0             NaN   both       1953.1.31      1165010800  \n",
              "1             NaN   both       1946.8.22      1111016800  \n",
              "2             NaN   both       1982.9.20      1168010300  "
            ]
          },
          "metadata": {
            "tags": []
          },
          "execution_count": 19
        }
      ]
    },
    {
      "metadata": {
        "scrolled": true,
        "id": "3TnAbrBDPYrP",
        "colab_type": "code",
        "colab": {
          "base_uri": "https://localhost:8080/",
          "height": 160
        },
        "outputId": "229fb5a4-06df-4d69-e980-ca81a77990ec"
      },
      "cell_type": "code",
      "source": [
        "print('Subways')\n",
        "subway_data = pd.read_csv(join(rpath, 'Subways.csv'))\n",
        "subway_data[:3]"
      ],
      "execution_count": 18,
      "outputs": [
        {
          "output_type": "stream",
          "text": [
            "Subways\n"
          ],
          "name": "stdout"
        },
        {
          "output_type": "execute_result",
          "data": {
            "text/html": [
              "<div>\n",
              "<style scoped>\n",
              "    .dataframe tbody tr th:only-of-type {\n",
              "        vertical-align: middle;\n",
              "    }\n",
              "\n",
              "    .dataframe tbody tr th {\n",
              "        vertical-align: top;\n",
              "    }\n",
              "\n",
              "    .dataframe thead th {\n",
              "        text-align: right;\n",
              "    }\n",
              "</style>\n",
              "<table border=\"1\" class=\"dataframe\">\n",
              "  <thead>\n",
              "    <tr style=\"text-align: right;\">\n",
              "      <th></th>\n",
              "      <th>station_id</th>\n",
              "      <th>latitude</th>\n",
              "      <th>longitude</th>\n",
              "      <th>subway_line</th>\n",
              "      <th>address_by_law</th>\n",
              "    </tr>\n",
              "  </thead>\n",
              "  <tbody>\n",
              "    <tr>\n",
              "      <th>0</th>\n",
              "      <td>1</td>\n",
              "      <td>37.555729</td>\n",
              "      <td>126.972145</td>\n",
              "      <td>1,4,KJ,AP</td>\n",
              "      <td>1.114012e+09</td>\n",
              "    </tr>\n",
              "    <tr>\n",
              "      <th>1</th>\n",
              "      <td>2</td>\n",
              "      <td>37.565624</td>\n",
              "      <td>126.976936</td>\n",
              "      <td>1,2</td>\n",
              "      <td>1.114017e+09</td>\n",
              "    </tr>\n",
              "    <tr>\n",
              "      <th>2</th>\n",
              "      <td>3</td>\n",
              "      <td>37.570169</td>\n",
              "      <td>126.983099</td>\n",
              "      <td>1</td>\n",
              "      <td>1.111013e+09</td>\n",
              "    </tr>\n",
              "  </tbody>\n",
              "</table>\n",
              "</div>"
            ],
            "text/plain": [
              "   station_id   latitude   longitude subway_line  address_by_law\n",
              "0           1  37.555729  126.972145   1,4,KJ,AP    1.114012e+09\n",
              "1           2  37.565624  126.976936         1,2    1.114017e+09\n",
              "2           3  37.570169  126.983099           1    1.111013e+09"
            ]
          },
          "metadata": {
            "tags": []
          },
          "execution_count": 18
        }
      ]
    },
    {
      "metadata": {
        "scrolled": true,
        "id": "PJDRyOWfPYrU",
        "colab_type": "code",
        "colab": {
          "base_uri": "https://localhost:8080/",
          "height": 209
        },
        "outputId": "2ca0d8c2-cfad-4b6a-e3a1-ffe77bf52624"
      },
      "cell_type": "code",
      "source": [
        "print('Train')\n",
        "train_data = pd.read_csv(join(rpath, 'train.csv'))\n",
        "train_data[:3]"
      ],
      "execution_count": 17,
      "outputs": [
        {
          "output_type": "stream",
          "text": [
            "Train\n"
          ],
          "name": "stdout"
        },
        {
          "output_type": "execute_result",
          "data": {
            "text/html": [
              "<div>\n",
              "<style scoped>\n",
              "    .dataframe tbody tr th:only-of-type {\n",
              "        vertical-align: middle;\n",
              "    }\n",
              "\n",
              "    .dataframe tbody tr th {\n",
              "        vertical-align: top;\n",
              "    }\n",
              "\n",
              "    .dataframe thead th {\n",
              "        text-align: right;\n",
              "    }\n",
              "</style>\n",
              "<table border=\"1\" class=\"dataframe\">\n",
              "  <thead>\n",
              "    <tr style=\"text-align: right;\">\n",
              "      <th></th>\n",
              "      <th>key</th>\n",
              "      <th>apartment_id</th>\n",
              "      <th>city</th>\n",
              "      <th>transaction_year_month</th>\n",
              "      <th>transaction_date</th>\n",
              "      <th>year_of_completion</th>\n",
              "      <th>exclusive_use_area</th>\n",
              "      <th>floor</th>\n",
              "      <th>latitude</th>\n",
              "      <th>longitude</th>\n",
              "      <th>...</th>\n",
              "      <th>lowest_building_in_sites</th>\n",
              "      <th>heat_type</th>\n",
              "      <th>heat_fuel</th>\n",
              "      <th>room_id</th>\n",
              "      <th>supply_area</th>\n",
              "      <th>total_household_count_of_area_type</th>\n",
              "      <th>room_count</th>\n",
              "      <th>bathroom_count</th>\n",
              "      <th>front_door_structure</th>\n",
              "      <th>transaction_real_price</th>\n",
              "    </tr>\n",
              "  </thead>\n",
              "  <tbody>\n",
              "    <tr>\n",
              "      <th>0</th>\n",
              "      <td>0</td>\n",
              "      <td>5584</td>\n",
              "      <td>1</td>\n",
              "      <td>200601</td>\n",
              "      <td>11~20</td>\n",
              "      <td>1999</td>\n",
              "      <td>47.43</td>\n",
              "      <td>6</td>\n",
              "      <td>37.585965</td>\n",
              "      <td>127.000231</td>\n",
              "      <td>...</td>\n",
              "      <td>4.0</td>\n",
              "      <td>individual</td>\n",
              "      <td>gas</td>\n",
              "      <td>91120</td>\n",
              "      <td>65.63</td>\n",
              "      <td>46</td>\n",
              "      <td>1.0</td>\n",
              "      <td>1.0</td>\n",
              "      <td>corridor</td>\n",
              "      <td>215000000</td>\n",
              "    </tr>\n",
              "    <tr>\n",
              "      <th>1</th>\n",
              "      <td>1</td>\n",
              "      <td>5584</td>\n",
              "      <td>1</td>\n",
              "      <td>200601</td>\n",
              "      <td>11~20</td>\n",
              "      <td>1999</td>\n",
              "      <td>44.37</td>\n",
              "      <td>8</td>\n",
              "      <td>37.585965</td>\n",
              "      <td>127.000231</td>\n",
              "      <td>...</td>\n",
              "      <td>4.0</td>\n",
              "      <td>individual</td>\n",
              "      <td>gas</td>\n",
              "      <td>91119</td>\n",
              "      <td>61.39</td>\n",
              "      <td>10</td>\n",
              "      <td>2.0</td>\n",
              "      <td>1.0</td>\n",
              "      <td>corridor</td>\n",
              "      <td>200000000</td>\n",
              "    </tr>\n",
              "    <tr>\n",
              "      <th>2</th>\n",
              "      <td>2</td>\n",
              "      <td>5059</td>\n",
              "      <td>1</td>\n",
              "      <td>200601</td>\n",
              "      <td>11~20</td>\n",
              "      <td>1992</td>\n",
              "      <td>54.70</td>\n",
              "      <td>8</td>\n",
              "      <td>37.580511</td>\n",
              "      <td>127.014016</td>\n",
              "      <td>...</td>\n",
              "      <td>9.0</td>\n",
              "      <td>individual</td>\n",
              "      <td>gas</td>\n",
              "      <td>8430</td>\n",
              "      <td>72.36</td>\n",
              "      <td>201</td>\n",
              "      <td>2.0</td>\n",
              "      <td>1.0</td>\n",
              "      <td>corridor</td>\n",
              "      <td>168000000</td>\n",
              "    </tr>\n",
              "  </tbody>\n",
              "</table>\n",
              "<p>3 rows × 25 columns</p>\n",
              "</div>"
            ],
            "text/plain": [
              "   key  apartment_id  city  transaction_year_month transaction_date  \\\n",
              "0    0          5584     1                  200601            11~20   \n",
              "1    1          5584     1                  200601            11~20   \n",
              "2    2          5059     1                  200601            11~20   \n",
              "\n",
              "   year_of_completion  exclusive_use_area  floor   latitude   longitude  \\\n",
              "0                1999               47.43      6  37.585965  127.000231   \n",
              "1                1999               44.37      8  37.585965  127.000231   \n",
              "2                1992               54.70      8  37.580511  127.014016   \n",
              "\n",
              "            ...            lowest_building_in_sites   heat_type  heat_fuel  \\\n",
              "0           ...                                 4.0  individual        gas   \n",
              "1           ...                                 4.0  individual        gas   \n",
              "2           ...                                 9.0  individual        gas   \n",
              "\n",
              "   room_id  supply_area  total_household_count_of_area_type room_count  \\\n",
              "0    91120        65.63                                  46        1.0   \n",
              "1    91119        61.39                                  10        2.0   \n",
              "2     8430        72.36                                 201        2.0   \n",
              "\n",
              "  bathroom_count  front_door_structure  transaction_real_price  \n",
              "0            1.0              corridor               215000000  \n",
              "1            1.0              corridor               200000000  \n",
              "2            1.0              corridor               168000000  \n",
              "\n",
              "[3 rows x 25 columns]"
            ]
          },
          "metadata": {
            "tags": []
          },
          "execution_count": 17
        }
      ]
    },
    {
      "metadata": {
        "scrolled": true,
        "id": "5un1dl4qPYrZ",
        "colab_type": "code",
        "colab": {
          "base_uri": "https://localhost:8080/",
          "height": 209
        },
        "outputId": "1139020b-fb8f-40fc-f4dd-5884ae9a617b"
      },
      "cell_type": "code",
      "source": [
        "print('Test')\n",
        "test_data = pd.read_csv(join(rpath, 'test.csv'))\n",
        "test_data[:3]"
      ],
      "execution_count": 20,
      "outputs": [
        {
          "output_type": "stream",
          "text": [
            "Test\n"
          ],
          "name": "stdout"
        },
        {
          "output_type": "execute_result",
          "data": {
            "text/html": [
              "<div>\n",
              "<style scoped>\n",
              "    .dataframe tbody tr th:only-of-type {\n",
              "        vertical-align: middle;\n",
              "    }\n",
              "\n",
              "    .dataframe tbody tr th {\n",
              "        vertical-align: top;\n",
              "    }\n",
              "\n",
              "    .dataframe thead th {\n",
              "        text-align: right;\n",
              "    }\n",
              "</style>\n",
              "<table border=\"1\" class=\"dataframe\">\n",
              "  <thead>\n",
              "    <tr style=\"text-align: right;\">\n",
              "      <th></th>\n",
              "      <th>key</th>\n",
              "      <th>apartment_id</th>\n",
              "      <th>city</th>\n",
              "      <th>transaction_year_month</th>\n",
              "      <th>transaction_date</th>\n",
              "      <th>year_of_completion</th>\n",
              "      <th>exclusive_use_area</th>\n",
              "      <th>floor</th>\n",
              "      <th>latitude</th>\n",
              "      <th>longitude</th>\n",
              "      <th>...</th>\n",
              "      <th>lowest_building_in_sites</th>\n",
              "      <th>heat_type</th>\n",
              "      <th>heat_fuel</th>\n",
              "      <th>room_id</th>\n",
              "      <th>supply_area</th>\n",
              "      <th>total_household_count_of_area_type</th>\n",
              "      <th>room_count</th>\n",
              "      <th>bathroom_count</th>\n",
              "      <th>front_door_structure</th>\n",
              "      <th>transaction_real_price</th>\n",
              "    </tr>\n",
              "  </thead>\n",
              "  <tbody>\n",
              "    <tr>\n",
              "      <th>0</th>\n",
              "      <td>462533</td>\n",
              "      <td>3751</td>\n",
              "      <td>1</td>\n",
              "      <td>200912</td>\n",
              "      <td>21~31</td>\n",
              "      <td>1984</td>\n",
              "      <td>83.58</td>\n",
              "      <td>14</td>\n",
              "      <td>37.519926</td>\n",
              "      <td>127.052515</td>\n",
              "      <td>...</td>\n",
              "      <td>15.0</td>\n",
              "      <td>district</td>\n",
              "      <td>cogeneration</td>\n",
              "      <td>6648</td>\n",
              "      <td>107.19</td>\n",
              "      <td>2</td>\n",
              "      <td>3.0</td>\n",
              "      <td>1.0</td>\n",
              "      <td>corridor</td>\n",
              "      <td>0</td>\n",
              "    </tr>\n",
              "    <tr>\n",
              "      <th>1</th>\n",
              "      <td>764018</td>\n",
              "      <td>14029</td>\n",
              "      <td>1</td>\n",
              "      <td>201304</td>\n",
              "      <td>1~10</td>\n",
              "      <td>1968</td>\n",
              "      <td>107.17</td>\n",
              "      <td>10</td>\n",
              "      <td>37.572215</td>\n",
              "      <td>126.987643</td>\n",
              "      <td>...</td>\n",
              "      <td>8.0</td>\n",
              "      <td>individual</td>\n",
              "      <td>gas</td>\n",
              "      <td>46184</td>\n",
              "      <td>107.17</td>\n",
              "      <td>10</td>\n",
              "      <td>0.0</td>\n",
              "      <td>0.0</td>\n",
              "      <td>corridor</td>\n",
              "      <td>0</td>\n",
              "    </tr>\n",
              "    <tr>\n",
              "      <th>2</th>\n",
              "      <td>813528</td>\n",
              "      <td>12304</td>\n",
              "      <td>1</td>\n",
              "      <td>201309</td>\n",
              "      <td>21~30</td>\n",
              "      <td>1968</td>\n",
              "      <td>36.17</td>\n",
              "      <td>6</td>\n",
              "      <td>37.570067</td>\n",
              "      <td>127.010640</td>\n",
              "      <td>...</td>\n",
              "      <td>4.0</td>\n",
              "      <td>individual</td>\n",
              "      <td>gas</td>\n",
              "      <td>45540</td>\n",
              "      <td>39.66</td>\n",
              "      <td>58</td>\n",
              "      <td>2.0</td>\n",
              "      <td>1.0</td>\n",
              "      <td>stairway</td>\n",
              "      <td>0</td>\n",
              "    </tr>\n",
              "  </tbody>\n",
              "</table>\n",
              "<p>3 rows × 25 columns</p>\n",
              "</div>"
            ],
            "text/plain": [
              "      key  apartment_id  city  transaction_year_month transaction_date  \\\n",
              "0  462533          3751     1                  200912            21~31   \n",
              "1  764018         14029     1                  201304             1~10   \n",
              "2  813528         12304     1                  201309            21~30   \n",
              "\n",
              "   year_of_completion  exclusive_use_area  floor   latitude   longitude  \\\n",
              "0                1984               83.58     14  37.519926  127.052515   \n",
              "1                1968              107.17     10  37.572215  126.987643   \n",
              "2                1968               36.17      6  37.570067  127.010640   \n",
              "\n",
              "            ...            lowest_building_in_sites   heat_type     heat_fuel  \\\n",
              "0           ...                                15.0    district  cogeneration   \n",
              "1           ...                                 8.0  individual           gas   \n",
              "2           ...                                 4.0  individual           gas   \n",
              "\n",
              "   room_id  supply_area  total_household_count_of_area_type room_count  \\\n",
              "0     6648       107.19                                   2        3.0   \n",
              "1    46184       107.17                                  10        0.0   \n",
              "2    45540        39.66                                  58        2.0   \n",
              "\n",
              "  bathroom_count  front_door_structure  transaction_real_price  \n",
              "0            1.0              corridor                       0  \n",
              "1            0.0              corridor                       0  \n",
              "2            1.0              stairway                       0  \n",
              "\n",
              "[3 rows x 25 columns]"
            ]
          },
          "metadata": {
            "tags": []
          },
          "execution_count": 20
        }
      ]
    },
    {
      "metadata": {
        "id": "GGHg9oauPYro",
        "colab_type": "text"
      },
      "cell_type": "markdown",
      "source": [
        "# Initialization"
      ]
    },
    {
      "metadata": {
        "id": "azT8cJlGPYrp",
        "colab_type": "code",
        "colab": {}
      },
      "cell_type": "code",
      "source": [
        "config = tf.ConfigProto(allow_soft_placement=True)\n",
        "config.gpu_options.allow_growth = True\n",
        "sess = tf.Session(config=config)\n",
        "keras.backend.set_session(sess)"
      ],
      "execution_count": 0,
      "outputs": []
    },
    {
      "metadata": {
        "id": "j72wSGYnPYru",
        "colab_type": "text"
      },
      "cell_type": "markdown",
      "source": [
        "# 전처리 파트"
      ]
    },
    {
      "metadata": {
        "scrolled": true,
        "id": "q3R5VHGtPYri",
        "colab_type": "code",
        "colab": {
          "base_uri": "https://localhost:8080/",
          "height": 557
        },
        "outputId": "592868aa-6eef-4fb8-fe51-82251aedc420"
      },
      "cell_type": "code",
      "source": [
        "print('Finding None Numeric components, and Nan components')\n",
        "non_numeric_components = list()\n",
        "nan_include_components = list()\n",
        "\n",
        "for k in train_data.keys():\n",
        "    if isinstance(train_data[k][0], float) or str(train_data[k][0]).isdigit():\n",
        "        isnumeric = True\n",
        "    else:\n",
        "        isnumeric = False\n",
        "        non_numeric_components.append(k)\n",
        "    include_nan = False\n",
        "    if isnumeric and len(np.where(np.isnan(train_data[k]))[0]) > 0:\n",
        "        nan_include_components.append(k)\n",
        "        include_nan = True\n",
        "        \n",
        "    \n",
        "    print(k, train_data[k][0], isnumeric, ' inculde NaN?', include_nan)\n",
        "        \n",
        "print('') \n",
        "print('Final Result')\n",
        "print('None numeric components', non_numeric_components)\n",
        "print('NAN include components', nan_include_components)"
      ],
      "execution_count": 27,
      "outputs": [
        {
          "output_type": "stream",
          "text": [
            "Finding None Numeric components, and Nan components\n",
            "('key', 0, True, ' inculde NaN?', False)\n",
            "('apartment_id', 5584, True, ' inculde NaN?', False)\n",
            "('city', 1, True, ' inculde NaN?', False)\n",
            "('transaction_year_month', 200601, True, ' inculde NaN?', False)\n",
            "('transaction_date', '11~20', False, ' inculde NaN?', False)\n",
            "('year_of_completion', 1999, True, ' inculde NaN?', False)\n",
            "('exclusive_use_area', 47.43, True, ' inculde NaN?', False)\n",
            "('floor', 6, True, ' inculde NaN?', False)\n",
            "('latitude', 37.58596505640614, True, ' inculde NaN?', False)\n",
            "('longitude', 127.00023096787315, True, ' inculde NaN?', False)\n",
            "('address_by_law', 1111017100, True, ' inculde NaN?', False)\n",
            "('total_parking_capacity_in_site', 163.0, True, ' inculde NaN?', True)\n",
            "('total_household_count_in_sites', 136, True, ' inculde NaN?', False)\n",
            "('apartment_building_count_in_sites', 1, True, ' inculde NaN?', False)\n",
            "('tallest_building_in_sites', 8.0, True, ' inculde NaN?', True)\n",
            "('lowest_building_in_sites', 4.0, True, ' inculde NaN?', True)\n",
            "('heat_type', 'individual', False, ' inculde NaN?', False)\n",
            "('heat_fuel', 'gas', False, ' inculde NaN?', False)\n",
            "('room_id', 91120, True, ' inculde NaN?', False)\n",
            "('supply_area', 65.63, True, ' inculde NaN?', False)\n",
            "('total_household_count_of_area_type', 46, True, ' inculde NaN?', False)\n",
            "('room_count', 1.0, True, ' inculde NaN?', True)\n",
            "('bathroom_count', 1.0, True, ' inculde NaN?', True)\n",
            "('front_door_structure', 'corridor', False, ' inculde NaN?', False)\n",
            "('transaction_real_price', 215000000, True, ' inculde NaN?', False)\n",
            "\n",
            "Final Result\n",
            "('None numeric components', ['transaction_date', 'heat_type', 'heat_fuel', 'front_door_structure'])\n",
            "('NAN include components', ['total_parking_capacity_in_site', 'tallest_building_in_sites', 'lowest_building_in_sites', 'room_count', 'bathroom_count'])\n"
          ],
          "name": "stdout"
        }
      ]
    },
    {
      "metadata": {
        "scrolled": true,
        "id": "6YM5yrStPYrv",
        "colab_type": "code",
        "colab": {
          "base_uri": "https://localhost:8080/",
          "height": 307
        },
        "outputId": "b77a34ba-700c-47f3-c62a-78a14f945947"
      },
      "cell_type": "code",
      "source": [
        "print('전처리1: non numeric한 데이터를 변환하기 위한 딕셔너리 생성')\n",
        "non_numeric_changer_dict = dict()\n",
        "for k in non_numeric_components:\n",
        "    train_data[k].fillna('nan', inplace=True)\n",
        "    print(k)\n",
        "    print(np.unique(train_data[k], return_counts=True))\n",
        "    unique_list = np.unique(train_data[k], return_counts=True)[0]\n",
        "    \n",
        "    non_numeric_changer_dict2 = dict()\n",
        "    for idx, label in enumerate(unique_list):\n",
        "        non_numeric_changer_dict2[label] = idx\n",
        "#         print('%s: %i' % (label, idx))\n",
        "    non_numeric_changer_dict[k] = non_numeric_changer_dict2\n",
        "    print('')\n",
        "\n",
        "print(non_numeric_changer_dict)\n",
        "print('#####')\n",
        "    \n",
        "\n"
      ],
      "execution_count": 28,
      "outputs": [
        {
          "output_type": "stream",
          "text": [
            "전처리1: non numeric한 데이터를 변환하기 위한 딕셔너리 생성\n",
            "transaction_date\n",
            "(array(['11~20', '1~10', '21~28', '21~29', '21~30', '21~31'], dtype=object), array([538876, 513530,  31679,   9569, 171902, 335902]))\n",
            "\n",
            "heat_type\n",
            "(array(['central', 'district', 'individual', 'nan'], dtype=object), array([ 133749,  379822, 1085870,    2017]))\n",
            "\n",
            "heat_fuel\n",
            "(array(['-', 'cogeneration', 'gas', 'nan'], dtype=object), array([   8971,  378141, 1204679,    9667]))\n",
            "\n",
            "front_door_structure\n",
            "(array(['-', 'corridor', 'mixed', 'nan', 'stairway'], dtype=object), array([     21,  415209,   26085,   13892, 1146251]))\n",
            "\n",
            "{'heat_fuel': {'cogeneration': 1, 'gas': 2, 'nan': 3, '-': 0}, 'transaction_date': {'21~31': 5, '21~30': 4, '21~28': 2, '21~29': 3, '1~10': 1, '11~20': 0}, 'heat_type': {'nan': 3, 'individual': 2, 'central': 0, 'district': 1}, 'front_door_structure': {'mixed': 2, 'nan': 3, 'stairway': 4, '-': 0, 'corridor': 1}}\n",
            "#####\n"
          ],
          "name": "stdout"
        }
      ]
    },
    {
      "metadata": {
        "scrolled": true,
        "id": "bh84Ii6BPYrz",
        "colab_type": "code",
        "colab": {
          "base_uri": "https://localhost:8080/",
          "height": 539
        },
        "outputId": "e1b094c1-a60b-4130-e570-823625a7df5b"
      },
      "cell_type": "code",
      "source": [
        "def replace_elements(data):\n",
        "    print('전처리2: non numeric을 numeric으로 변경')\n",
        "    for k, v in non_numeric_changer_dict.items():\n",
        "        for k2, v2 in v.items():\n",
        "            data[k][np.where(data[k]==k2)[0]] = v2\n",
        "\n",
        "    print('전처리2: Numeric column 이지만 NaN 값을 가지고 있으면 0으로 변경')\n",
        "    for k in nan_include_components:\n",
        "        data[k].fillna(0, inplace=True)\n",
        "        print(k)\n",
        "\n",
        "        print('')\n",
        "        \n",
        "replace_elements(train_data)\n",
        "replace_elements(test_data)"
      ],
      "execution_count": 29,
      "outputs": [
        {
          "output_type": "stream",
          "text": [
            "전처리2: non numeric을 numeric으로 변경\n"
          ],
          "name": "stdout"
        },
        {
          "output_type": "stream",
          "text": [
            "/usr/local/lib/python2.7/dist-packages/ipykernel_launcher.py:5: SettingWithCopyWarning: \n",
            "A value is trying to be set on a copy of a slice from a DataFrame\n",
            "\n",
            "See the caveats in the documentation: http://pandas.pydata.org/pandas-docs/stable/indexing.html#indexing-view-versus-copy\n",
            "  \"\"\"\n"
          ],
          "name": "stderr"
        },
        {
          "output_type": "stream",
          "text": [
            "전처리2: Numeric column 이지만 NaN 값을 가지고 있으면 0으로 변경\n",
            "total_parking_capacity_in_site\n",
            "\n",
            "tallest_building_in_sites\n",
            "\n",
            "lowest_building_in_sites\n",
            "\n",
            "room_count\n",
            "\n",
            "bathroom_count\n",
            "\n",
            "전처리2: non numeric을 numeric으로 변경\n",
            "전처리2: Numeric column 이지만 NaN 값을 가지고 있으면 0으로 변경\n",
            "total_parking_capacity_in_site\n",
            "\n",
            "tallest_building_in_sites\n",
            "\n",
            "lowest_building_in_sites\n",
            "\n",
            "room_count\n",
            "\n",
            "bathroom_count\n",
            "\n"
          ],
          "name": "stdout"
        }
      ]
    },
    {
      "metadata": {
        "scrolled": true,
        "id": "BNYoWrz-PYr5",
        "colab_type": "code",
        "colab": {
          "base_uri": "https://localhost:8080/",
          "height": 53
        },
        "outputId": "c3bfcaa5-4985-4186-c7d8-343d7085b34f"
      },
      "cell_type": "code",
      "source": [
        "y_train = train_data['transaction_real_price'].values\n",
        "# x_train = train_data.loc[:, train_data.columns != 'transaction_real_price'].values\n",
        "x_train = train_data.loc[:, ~train_data.columns.isin(['transaction_real_price', 'key'])].values\n",
        "\n",
        "print(x_train.shape)\n",
        "print(y_train.shape)"
      ],
      "execution_count": 30,
      "outputs": [
        {
          "output_type": "stream",
          "text": [
            "(1601458, 23)\n",
            "(1601458,)\n"
          ],
          "name": "stdout"
        }
      ]
    },
    {
      "metadata": {
        "scrolled": true,
        "id": "_B92rj8WPYr-",
        "colab_type": "code",
        "colab": {
          "base_uri": "https://localhost:8080/",
          "height": 53
        },
        "outputId": "12bb6948-f236-460d-d085-bbac9048cf95"
      },
      "cell_type": "code",
      "source": [
        "y_test = test_data['transaction_real_price'].values\n",
        "x_test = test_data.loc[:, ~test_data.columns.isin(['transaction_real_price', 'key'])].values\n",
        "\n",
        "print(x_test.shape)\n",
        "print(y_test.shape)"
      ],
      "execution_count": 31,
      "outputs": [
        {
          "output_type": "stream",
          "text": [
            "(3918, 23)\n",
            "(3918,)\n"
          ],
          "name": "stdout"
        }
      ]
    },
    {
      "metadata": {
        "id": "kW71JivbPYsD",
        "colab_type": "text"
      },
      "cell_type": "markdown",
      "source": [
        "# Model Definition"
      ]
    },
    {
      "metadata": {
        "id": "BMXeCyW1PYsF",
        "colab_type": "code",
        "colab": {}
      },
      "cell_type": "code",
      "source": [
        "from keras.models import Model\n",
        "from keras.layers import Dense, Activation, BatchNormalization, Dropout, Input, Conv2D, Flatten, MaxPooling2D, AveragePooling2D\n",
        "from keras import optimizers\n",
        "from sklearn.model_selection import train_test_split\n",
        "from keras.callbacks import CSVLogger"
      ],
      "execution_count": 0,
      "outputs": []
    },
    {
      "metadata": {
        "id": "YlwEyut1PYsN",
        "colab_type": "text"
      },
      "cell_type": "markdown",
      "source": [
        "# MLP"
      ]
    },
    {
      "metadata": {
        "id": "GF6a5QUJPYsS",
        "colab_type": "code",
        "colab": {}
      },
      "cell_type": "code",
      "source": [
        "class MLP:\n",
        "    def __init__(self):\n",
        "        with K.tf.device('/gpu:0'):\n",
        "            inputs = Input(shape=(23, ))\n",
        "#             x = Dropout(0.5)(inputs)\n",
        "#             m = BatchNormalization()(inputs)\n",
        "            m = inputs\n",
        "    \n",
        "            num_neurons = 512\n",
        "            keep_dropout_rate = 0.5\n",
        "            x = Dense(num_neurons)(m)\n",
        "            x = Activation(\"relu\")(x)\n",
        "            x = Dropout(keep_dropout_rate)(x)\n",
        "\n",
        "#             x = Dense(num_neurons)(x)\n",
        "#             x = Activation(\"relu\")(x)\n",
        "#             x = Dropout(keep_dropout_rate)(x)\n",
        "\n",
        "#             x = Dense(num_neurons)(x)\n",
        "#             x = Activation(\"relu\")(x)\n",
        "#             x = Dropout(keep_dropout_rate)(x)\n",
        "\n",
        "#             x = Dense(num_neurons)(x)\n",
        "#             x = Activation(\"relu\")(x)\n",
        "#             x = Dropout(keep_dropout_rate)(x)\n",
        "\n",
        "#             x = Dense(num_neurons)(x)\n",
        "#             x = Activation(\"relu\")(x)\n",
        "#             x = Dropout(keep_dropout_rate)(x)\n",
        "\n",
        "            x = Dense(num_neurons)(x)\n",
        "#             x = Activation(\"relu\")(x)\n",
        "#             x = Dropout(keep_dropout_rate)(x)\n",
        "\n",
        "            m = Dense(1)(x)\n",
        "\n",
        "            model = Model(inputs=inputs, outputs=[m])\n",
        "        \n",
        "        def root_mean_squared_error(y_true, y_pred):\n",
        "            return K.sqrt(K.mean(K.square(y_pred - y_true), axis=-1)) \n",
        "        \n",
        "#         adam = optimizers.Adam(lr=0.001)\n",
        "        model.compile(loss='mean_squared_error', optimizer='adam', metrics=['accuracy'])\n",
        "        print(model.summary())\n",
        "        self.model = model\n",
        "        \n",
        "    def train(self, x_train, y_train, epochs=50, batch_size=128, verbose=1):\n",
        "        self.model.fit(x_train, y_train, epochs=epochs, batch_size=batch_size, verbose=verbose, shuffle=True)\n",
        "        \n",
        "    def evaluate(self, x_test, y_test):\n",
        "        score = self.model.evaluate(x_test, y_test, verbose=0)\n",
        "        print(\"Test MSE is \", score)\n",
        "        return score\n",
        "    \n",
        "    def predict(self, x_test, batch_size=1):\n",
        "        _y = self.model.predict(x=x_test, batch_size=batch_size)\n",
        "        return _y"
      ],
      "execution_count": 0,
      "outputs": []
    },
    {
      "metadata": {
        "scrolled": true,
        "id": "ln8_Sq-ZPYsY",
        "colab_type": "code",
        "colab": {}
      },
      "cell_type": "code",
      "source": [
        "mlp = MLP()\n",
        "# x_train = input_data.reshape(input_data.shape[0], 1, input_data.shape[1], 1)\n",
        "_x_train, _x_test, _y_train, _y_test = train_test_split(x_train, y_train, shuffle=True, test_size=0.1)\n",
        "all_scores = list()\n",
        "for i in range(500):\n",
        "    print(i)\n",
        "    mlp.train(x_train=_x_train, y_train=_y_train, epochs=1, batch_size=2048)\n",
        "    all_scores.append(mlp.evaluate(x_test=_x_test, y_test=_y_test))\n",
        "    print('')\n",
        "    \n",
        "for i in range(50):\n",
        "    print(i)\n",
        "    mlp.train(x_train=x_train, y_train=y_train, epochs=1, batch_size=2048)\n",
        "    all_scores.append(mlp.evaluate(x_test=_x_test, y_test=_y_test))\n",
        "    print('')"
      ],
      "execution_count": 0,
      "outputs": []
    },
    {
      "metadata": {
        "scrolled": true,
        "id": "uk_Vk_QtPYsj",
        "colab_type": "code",
        "colab": {}
      },
      "cell_type": "code",
      "source": [
        "mlp_predicted = mlp.predict(x_test=x_test)"
      ],
      "execution_count": 0,
      "outputs": []
    },
    {
      "metadata": {
        "id": "ylmLIl86PYsp",
        "colab_type": "code",
        "colab": {}
      },
      "cell_type": "code",
      "source": [
        "sub = pd.DataFrame()\n",
        "sub['key'] = test_data['key']\n",
        "sub['transaction_real_price'] = mlp_predicted\n",
        "sub.to_csv('submission_model2_mlp.csv',index=False)"
      ],
      "execution_count": 0,
      "outputs": []
    },
    {
      "metadata": {
        "id": "sHv-ox_mPYss",
        "colab_type": "text"
      },
      "cell_type": "markdown",
      "source": [
        "# CNN"
      ]
    },
    {
      "metadata": {
        "id": "OrykDhMUPYsu",
        "colab_type": "code",
        "colab": {}
      },
      "cell_type": "code",
      "source": [
        "class CNN:\n",
        "    def __init__(self, gpu=0):\n",
        "        with K.tf.device('/gpu:' + str(gpu)):\n",
        "            inputs = Input(shape=(1, 23, 1))\n",
        "            \n",
        "            num_neurons = 512\n",
        "\n",
        "            m = Conv2D(num_neurons, kernel_size=(1, 11), padding='valid')(inputs)\n",
        "            m = BatchNormalization()(m)\n",
        "            m = Activation('relu')(m)\n",
        "            m = AveragePooling2D(pool_size=(1, 2), strides=(1, 1))(m)\n",
        "            \n",
        "            m = Conv2D(num_neurons, kernel_size=(1, 7), padding='valid')(m)\n",
        "            m = BatchNormalization()(m)\n",
        "            m = Activation('relu')(m)\n",
        "            m = AveragePooling2D(pool_size=(1, 2), strides=(1, 1))(m)\n",
        "            \n",
        "            m = Conv2D(num_neurons, kernel_size=(1, 3), padding='valid')(m)\n",
        "            m = BatchNormalization()(m)\n",
        "            m = Activation('relu')(m)\n",
        "            m = AveragePooling2D(pool_size=(1, 2), strides=(1, 1))(m)\n",
        "            \n",
        "#             m = Conv2D(num_neurons, kernel_size=(1, 3), padding='valid')(m)\n",
        "#             m = BatchNormalization()(m)\n",
        "#             m = Activation('relu')(m)\n",
        "#             m = AveragePooling2D(pool_size=(1, 2), strides=(1, 1))(m)\n",
        "            \n",
        "#             m = Conv2D(num_neurons, kernel_size=(1, 3), padding='valid')(m)\n",
        "#             m = BatchNormalization()(m)\n",
        "#             m = Activation('relu')(m)\n",
        "#             m = AveragePooling2D(pool_size=(1, 2), strides=(1, 1))(m)\n",
        "            \n",
        "            m = Flatten()(m)\n",
        "            m = Dense(1000, activation='relu')(m)\n",
        "            m = Dense(1)(m)\n",
        "\n",
        "            model = Model(inputs=inputs, outputs=m)\n",
        "            \n",
        "        def root_mean_squared_error(y_true, y_pred):\n",
        "            return K.sqrt(K.mean(K.square(y_pred - y_true), axis=-1)) \n",
        "        \n",
        "        adam = optimizers.Adam(lr=0.001)        \n",
        "        model.compile(loss='mean_squared_error', optimizer=adam, metrics=['accuracy'])\n",
        "        print(model.summary())\n",
        "        self.model = model\n",
        "        \n",
        "    def train(self, x_train, y_train, x_test, y_test, epochs=50, batch_size=128, verbose=1, csv_logger=None):\n",
        "        if csv_logger is None:\n",
        "            self.model.fit(x_train, y_train, validation_data=(x_test, y_test), epochs=epochs, batch_size=batch_size, verbose=verbose,\n",
        "                           shuffle=True)\n",
        "        else:\n",
        "            self.model.fit(x_train, y_train, validation_data=(x_test, y_test), epochs=epochs, batch_size=batch_size, verbose=verbose,\n",
        "                           shuffle=True, callbacks=[csv_logger])\n",
        "        \n",
        "    def evaluate(self, x_test, y_test, batch_size=1):\n",
        "        score = self.model.evaluate(x_test, y_test, batch_size=batch_size, verbose=0)\n",
        "        print(\"Test MSE is \", score)\n",
        "        return score\n",
        "    \n",
        "    def predict(self, x_test, batch_size=1):\n",
        "        _y = self.model.predict(x=x_test, batch_size=batch_size)\n",
        "        return _y"
      ],
      "execution_count": 0,
      "outputs": []
    },
    {
      "metadata": {
        "scrolled": true,
        "id": "xETr82eHPYs1",
        "colab_type": "code",
        "colab": {
          "base_uri": "https://localhost:8080/",
          "height": 845
        },
        "outputId": "31fa1d32-d8ac-4c40-ed51-569f519804c2"
      },
      "cell_type": "code",
      "source": [
        "# _x_train, _x_test, _y_train, _y_test = train_test_split(x_train, y_train, shuffle=True, test_size=0.1)\n",
        "batch_size = 1024\n",
        "epochs = 40\n",
        "\n",
        "kf = KFold(n_splits=10)\n",
        "kf.get_n_splits(x_train)\n",
        "\n",
        "all_models = list()\n",
        "\n",
        "csv_logger = CSVLogger(join(rpath, 'log.csv'), append=True, separator=';')\n",
        "\n",
        "for idx, (train_index, test_index) in enumerate(kf.split(x_train)):\n",
        "    print('########################################')\n",
        "    print('K Fold:', idx)\n",
        "    print('########################################')\n",
        "    cnn = CNN(gpu=1)\n",
        "\n",
        "    _x_train = x_train[train_index]\n",
        "    _y_train = y_train[train_index]\n",
        "    _x_test = x_train[test_index]\n",
        "    _y_test = y_train[test_index]\n",
        "    \n",
        "    _x_train = _x_train.reshape(_x_train.shape[0], 1, _x_train.shape[1], 1)\n",
        "    _x_test = _x_test.reshape(_x_test.shape[0], 1, _x_test.shape[1], 1)\n",
        "    \n",
        "    cnn.train(x_train=_x_train, y_train=_y_train, x_test=_x_test, y_test=_y_test, epochs=epochs, batch_size=batch_size, verbose=1,\n",
        "             csv_logger=csv_logger)\n",
        "    all_models.append(cnn)\n",
        "#     all_scores.append(cnn.evaluate(x_test=_x_test, y_test=_y_test, batch_size=batch_size))"
      ],
      "execution_count": 0,
      "outputs": [
        {
          "output_type": "stream",
          "text": [
            "########################################\n",
            "('K Fold:', 0)\n",
            "########################################\n",
            "_________________________________________________________________\n",
            "Layer (type)                 Output Shape              Param #   \n",
            "=================================================================\n",
            "input_1 (InputLayer)         (None, 1, 23, 1)          0         \n",
            "_________________________________________________________________\n",
            "conv2d_1 (Conv2D)            (None, 1, 13, 512)        6144      \n",
            "_________________________________________________________________\n",
            "batch_normalization_1 (Batch (None, 1, 13, 512)        2048      \n",
            "_________________________________________________________________\n",
            "activation_1 (Activation)    (None, 1, 13, 512)        0         \n",
            "_________________________________________________________________\n",
            "average_pooling2d_1 (Average (None, 1, 12, 512)        0         \n",
            "_________________________________________________________________\n",
            "conv2d_2 (Conv2D)            (None, 1, 6, 512)         1835520   \n",
            "_________________________________________________________________\n",
            "batch_normalization_2 (Batch (None, 1, 6, 512)         2048      \n",
            "_________________________________________________________________\n",
            "activation_2 (Activation)    (None, 1, 6, 512)         0         \n",
            "_________________________________________________________________\n",
            "average_pooling2d_2 (Average (None, 1, 5, 512)         0         \n",
            "_________________________________________________________________\n",
            "conv2d_3 (Conv2D)            (None, 1, 3, 512)         786944    \n",
            "_________________________________________________________________\n",
            "batch_normalization_3 (Batch (None, 1, 3, 512)         2048      \n",
            "_________________________________________________________________\n",
            "activation_3 (Activation)    (None, 1, 3, 512)         0         \n",
            "_________________________________________________________________\n",
            "average_pooling2d_3 (Average (None, 1, 2, 512)         0         \n",
            "_________________________________________________________________\n",
            "flatten_1 (Flatten)          (None, 1024)              0         \n",
            "_________________________________________________________________\n",
            "dense_1 (Dense)              (None, 1000)              1025000   \n",
            "_________________________________________________________________\n",
            "dense_2 (Dense)              (None, 1)                 1001      \n",
            "=================================================================\n",
            "Total params: 3,660,753\n",
            "Trainable params: 3,657,681\n",
            "Non-trainable params: 3,072\n",
            "_________________________________________________________________\n",
            "None\n",
            "Train on 1441312 samples, validate on 160146 samples\n",
            "Epoch 1/40\n",
            "   6144/1441312 [..............................] - ETA: 3:37:35 - loss: 267306598292346208.0000 - acc: 0.0000e+00"
          ],
          "name": "stdout"
        }
      ]
    },
    {
      "metadata": {
        "id": "I6Dso5PUPYs6",
        "colab_type": "code",
        "colab": {}
      },
      "cell_type": "code",
      "source": [
        "_x_test = x_test.reshape(x_test.shape[0], 1, x_test.shape[1], 1)\n",
        "cnn_predicted_all = list()\n",
        "for cnn in all_models:\n",
        "    cnn_predicted = cnn.predict(x_test=_x_test, batch_size=batch_size)\n",
        "    cnn_predicted_all.append(cnn_predicted)\n",
        "cnn_predicted_all = np.array(cnn_predicted_all)\n",
        "cnn_predicted_final = np.mean(cnn_predicted_all, axis=0)"
      ],
      "execution_count": 0,
      "outputs": []
    },
    {
      "metadata": {
        "id": "kfyUaQx4PYs9",
        "colab_type": "code",
        "colab": {}
      },
      "cell_type": "code",
      "source": [
        "# print(a[0][0])\n",
        "# print(np.mean([23720146, 31678532, 24474986, 26008190, 25262484, 21582632, 28799930, 29443314, 27432226, 36861810], axis=0))\n",
        "# print(np.median([23720146, 31678532, 24474986, 26008190, 25262484, 21582632, 28799930, 29443314, 27432226, 36861810], axis=0))"
      ],
      "execution_count": 0,
      "outputs": []
    },
    {
      "metadata": {
        "id": "MNcAveStPYtC",
        "colab_type": "code",
        "colab": {}
      },
      "cell_type": "code",
      "source": [
        "sub = pd.DataFrame()\n",
        "sub['key'] = test_data['key']\n",
        "sub['transaction_real_price'] = cnn_predicted_final\n",
        "sub.to_csv(join(rpath, 'submission_model5_cnn.csv'),index=False)"
      ],
      "execution_count": 0,
      "outputs": []
    },
    {
      "metadata": {
        "id": "d14MvEBRPYtG",
        "colab_type": "code",
        "colab": {}
      },
      "cell_type": "code",
      "source": [
        ""
      ],
      "execution_count": 0,
      "outputs": []
    }
  ]
}